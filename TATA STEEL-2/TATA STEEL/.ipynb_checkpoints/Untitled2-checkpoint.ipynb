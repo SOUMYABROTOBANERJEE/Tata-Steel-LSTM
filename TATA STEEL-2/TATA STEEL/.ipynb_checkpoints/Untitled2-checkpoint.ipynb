{
 "cells": [
  {
   "cell_type": "code",
   "execution_count": 1,
   "metadata": {},
   "outputs": [],
   "source": [
    "import pandas as pd\n",
    "import matplotlib.mlab as mlab\n",
    "import matplotlib.pyplot as plt\n",
    "import numpy as np"
   ]
  },
  {
   "cell_type": "code",
   "execution_count": 30,
   "metadata": {},
   "outputs": [],
   "source": [
    "import warnings\n",
    "warnings.filterwarnings('ignore')"
   ]
  },
  {
   "cell_type": "code",
   "execution_count": 2,
   "metadata": {},
   "outputs": [],
   "source": [
    "df=pd.read_excel('BPR Only .xlsx','Sheet1')"
   ]
  },
  {
   "cell_type": "code",
   "execution_count": 3,
   "metadata": {},
   "outputs": [],
   "source": [
    "################################### DATA PREPROCESSING  #####################################"
   ]
  },
  {
   "cell_type": "code",
   "execution_count": 5,
   "metadata": {},
   "outputs": [
    {
     "data": {
      "text/html": [
       "<div>\n",
       "<style scoped>\n",
       "    .dataframe tbody tr th:only-of-type {\n",
       "        vertical-align: middle;\n",
       "    }\n",
       "\n",
       "    .dataframe tbody tr th {\n",
       "        vertical-align: top;\n",
       "    }\n",
       "\n",
       "    .dataframe thead th {\n",
       "        text-align: right;\n",
       "    }\n",
       "</style>\n",
       "<table border=\"1\" class=\"dataframe\">\n",
       "  <thead>\n",
       "    <tr style=\"text-align: right;\">\n",
       "      <th></th>\n",
       "      <th>BusA</th>\n",
       "      <th>CCAr</th>\n",
       "      <th>Account</th>\n",
       "      <th>Zone</th>\n",
       "      <th>Bran</th>\n",
       "      <th>Status</th>\n",
       "      <th>Local Crcy Amt</th>\n",
       "      <th>Arr (Clearing - Net Due Date)</th>\n",
       "      <th>PayT</th>\n",
       "      <th>Pstng Date</th>\n",
       "      <th>Net Due Dt</th>\n",
       "      <th>Clearing</th>\n",
       "    </tr>\n",
       "  </thead>\n",
       "  <tbody>\n",
       "    <tr>\n",
       "      <th>0</th>\n",
       "      <td>6</td>\n",
       "      <td>0</td>\n",
       "      <td>928860</td>\n",
       "      <td>1</td>\n",
       "      <td>9</td>\n",
       "      <td>1</td>\n",
       "      <td>0.035212</td>\n",
       "      <td>5</td>\n",
       "      <td>31</td>\n",
       "      <td>2018-10-31</td>\n",
       "      <td>2018-11-10</td>\n",
       "      <td>2018-11-15</td>\n",
       "    </tr>\n",
       "    <tr>\n",
       "      <th>1</th>\n",
       "      <td>6</td>\n",
       "      <td>0</td>\n",
       "      <td>928860</td>\n",
       "      <td>1</td>\n",
       "      <td>9</td>\n",
       "      <td>0</td>\n",
       "      <td>0.123124</td>\n",
       "      <td>0</td>\n",
       "      <td>31</td>\n",
       "      <td>2018-11-05</td>\n",
       "      <td>2018-11-15</td>\n",
       "      <td>2018-11-15</td>\n",
       "    </tr>\n",
       "    <tr>\n",
       "      <th>2</th>\n",
       "      <td>6</td>\n",
       "      <td>0</td>\n",
       "      <td>814077</td>\n",
       "      <td>1</td>\n",
       "      <td>9</td>\n",
       "      <td>1</td>\n",
       "      <td>0.274466</td>\n",
       "      <td>3</td>\n",
       "      <td>27</td>\n",
       "      <td>2018-11-19</td>\n",
       "      <td>2018-11-24</td>\n",
       "      <td>2018-11-27</td>\n",
       "    </tr>\n",
       "    <tr>\n",
       "      <th>4</th>\n",
       "      <td>6</td>\n",
       "      <td>0</td>\n",
       "      <td>814077</td>\n",
       "      <td>1</td>\n",
       "      <td>9</td>\n",
       "      <td>1</td>\n",
       "      <td>0.151648</td>\n",
       "      <td>6</td>\n",
       "      <td>27</td>\n",
       "      <td>2018-12-29</td>\n",
       "      <td>2019-01-03</td>\n",
       "      <td>2019-01-09</td>\n",
       "    </tr>\n",
       "    <tr>\n",
       "      <th>5</th>\n",
       "      <td>6</td>\n",
       "      <td>0</td>\n",
       "      <td>814077</td>\n",
       "      <td>1</td>\n",
       "      <td>9</td>\n",
       "      <td>1</td>\n",
       "      <td>0.156470</td>\n",
       "      <td>6</td>\n",
       "      <td>27</td>\n",
       "      <td>2018-12-29</td>\n",
       "      <td>2019-01-03</td>\n",
       "      <td>2019-01-09</td>\n",
       "    </tr>\n",
       "  </tbody>\n",
       "</table>\n",
       "</div>"
      ],
      "text/plain": [
       "       BusA  CCAr  Account  Zone  Bran  Status    Local Crcy Amt  \\\n",
       "0         6     0   928860     1     9       1          0.035212   \n",
       "1         6     0   928860     1     9       0          0.123124   \n",
       "2         6     0   814077     1     9       1          0.274466   \n",
       "4         6     0   814077     1     9       1          0.151648   \n",
       "5         6     0   814077     1     9       1          0.156470   \n",
       "\n",
       "   Arr (Clearing - Net Due Date)  PayT Pstng Date Net Due Dt   Clearing  \n",
       "0                              5    31 2018-10-31 2018-11-10 2018-11-15  \n",
       "1                              0    31 2018-11-05 2018-11-15 2018-11-15  \n",
       "2                              3    27 2018-11-19 2018-11-24 2018-11-27  \n",
       "4                              6    27 2018-12-29 2019-01-03 2019-01-09  \n",
       "5                              6    27 2018-12-29 2019-01-03 2019-01-09  "
      ]
     },
     "execution_count": 5,
     "metadata": {},
     "output_type": "execute_result"
    }
   ],
   "source": [
    "df.dropna(inplace=True)\n",
    "df['Status']=df['Status'].astype('category').cat.codes\n",
    "df['    BusA']=df['    BusA'].astype('category').cat.codes\n",
    "df['CCAr']=df['CCAr'].astype('category').cat.codes\n",
    "#df['Account']=df['Account'].astype('category').cat.codes\n",
    "df.drop(columns='Reference',inplace=True)\n",
    "df.drop(columns='Customer Name',inplace=True)\n",
    "df.drop(columns=['DocumentNo','Month','Year','Clrng doc.'],inplace=True)\n",
    "df['Zone']=df['Zone'].astype('category').cat.codes\n",
    "df['Bran']=df['Bran'].astype('category').cat.codes\n",
    "df['PayT'] = df['PayT'].astype('category').cat.codes\n",
    "df.drop(columns='Doc/Chq dt',inplace=True)\n",
    "df.head(5)"
   ]
  },
  {
   "cell_type": "code",
   "execution_count": null,
   "metadata": {},
   "outputs": [],
   "source": []
  },
  {
   "cell_type": "code",
   "execution_count": 6,
   "metadata": {},
   "outputs": [],
   "source": [
    "df['Pstng Date']=df['Pstng Date'].dt.strftime(\"%Y%m%d\").astype(str)\n",
    "df['Net Due Dt']=df['Net Due Dt'].dt.strftime(\"%Y%m%d\").astype(str)\n",
    "df['Clearing']=df['Clearing'].dt.strftime(\"%Y%m%d\").astype(str)"
   ]
  },
  {
   "cell_type": "code",
   "execution_count": 7,
   "metadata": {},
   "outputs": [],
   "source": [
    "df = df.reset_index()\n",
    "df.drop(columns='index',inplace=True)"
   ]
  },
  {
   "cell_type": "code",
   "execution_count": 8,
   "metadata": {},
   "outputs": [],
   "source": [
    "df.drop(columns='Clearing',inplace=True)\n",
    "df.drop(columns='Arr (Clearing - Net Due Date)',inplace=True)"
   ]
  },
  {
   "cell_type": "code",
   "execution_count": 12,
   "metadata": {},
   "outputs": [
    {
     "data": {
      "text/html": [
       "<div>\n",
       "<style scoped>\n",
       "    .dataframe tbody tr th:only-of-type {\n",
       "        vertical-align: middle;\n",
       "    }\n",
       "\n",
       "    .dataframe tbody tr th {\n",
       "        vertical-align: top;\n",
       "    }\n",
       "\n",
       "    .dataframe thead th {\n",
       "        text-align: right;\n",
       "    }\n",
       "</style>\n",
       "<table border=\"1\" class=\"dataframe\">\n",
       "  <thead>\n",
       "    <tr style=\"text-align: right;\">\n",
       "      <th></th>\n",
       "      <th>BusA</th>\n",
       "      <th>CCAr</th>\n",
       "      <th>Account</th>\n",
       "      <th>Zone</th>\n",
       "      <th>Bran</th>\n",
       "      <th>Status</th>\n",
       "      <th>Local Crcy Amt</th>\n",
       "      <th>PayT</th>\n",
       "      <th>Pstng Date</th>\n",
       "      <th>Net Due Dt</th>\n",
       "    </tr>\n",
       "  </thead>\n",
       "  <tbody>\n",
       "    <tr>\n",
       "      <th>0</th>\n",
       "      <td>1.0</td>\n",
       "      <td>0.0</td>\n",
       "      <td>0.999243</td>\n",
       "      <td>0.333333</td>\n",
       "      <td>0.409091</td>\n",
       "      <td>1.0</td>\n",
       "      <td>0.069108</td>\n",
       "      <td>0.861111</td>\n",
       "      <td>0.759036</td>\n",
       "      <td>0.072875</td>\n",
       "    </tr>\n",
       "    <tr>\n",
       "      <th>1</th>\n",
       "      <td>1.0</td>\n",
       "      <td>0.0</td>\n",
       "      <td>0.999243</td>\n",
       "      <td>0.333333</td>\n",
       "      <td>0.409091</td>\n",
       "      <td>0.0</td>\n",
       "      <td>0.241670</td>\n",
       "      <td>0.861111</td>\n",
       "      <td>0.848193</td>\n",
       "      <td>0.073389</td>\n",
       "    </tr>\n",
       "    <tr>\n",
       "      <th>2</th>\n",
       "      <td>1.0</td>\n",
       "      <td>0.0</td>\n",
       "      <td>0.860825</td>\n",
       "      <td>0.333333</td>\n",
       "      <td>0.409091</td>\n",
       "      <td>1.0</td>\n",
       "      <td>0.538742</td>\n",
       "      <td>0.750000</td>\n",
       "      <td>0.865060</td>\n",
       "      <td>0.074314</td>\n",
       "    </tr>\n",
       "    <tr>\n",
       "      <th>3</th>\n",
       "      <td>1.0</td>\n",
       "      <td>0.0</td>\n",
       "      <td>0.860825</td>\n",
       "      <td>0.333333</td>\n",
       "      <td>0.409091</td>\n",
       "      <td>1.0</td>\n",
       "      <td>0.297662</td>\n",
       "      <td>0.750000</td>\n",
       "      <td>0.997590</td>\n",
       "      <td>0.997225</td>\n",
       "    </tr>\n",
       "    <tr>\n",
       "      <th>4</th>\n",
       "      <td>1.0</td>\n",
       "      <td>0.0</td>\n",
       "      <td>0.860825</td>\n",
       "      <td>0.333333</td>\n",
       "      <td>0.409091</td>\n",
       "      <td>1.0</td>\n",
       "      <td>0.307127</td>\n",
       "      <td>0.750000</td>\n",
       "      <td>0.997590</td>\n",
       "      <td>0.997225</td>\n",
       "    </tr>\n",
       "  </tbody>\n",
       "</table>\n",
       "</div>"
      ],
      "text/plain": [
       "       BusA  CCAr   Account      Zone      Bran  Status    Local Crcy Amt  \\\n",
       "0       1.0   0.0  0.999243  0.333333  0.409091     1.0          0.069108   \n",
       "1       1.0   0.0  0.999243  0.333333  0.409091     0.0          0.241670   \n",
       "2       1.0   0.0  0.860825  0.333333  0.409091     1.0          0.538742   \n",
       "3       1.0   0.0  0.860825  0.333333  0.409091     1.0          0.297662   \n",
       "4       1.0   0.0  0.860825  0.333333  0.409091     1.0          0.307127   \n",
       "\n",
       "       PayT  Pstng Date  Net Due Dt  \n",
       "0  0.861111    0.759036    0.072875  \n",
       "1  0.861111    0.848193    0.073389  \n",
       "2  0.750000    0.865060    0.074314  \n",
       "3  0.750000    0.997590    0.997225  \n",
       "4  0.750000    0.997590    0.997225  "
      ]
     },
     "execution_count": 12,
     "metadata": {},
     "output_type": "execute_result"
    }
   ],
   "source": [
    "from sklearn import preprocessing\n",
    "y=df.columns\n",
    "x = df.values #returns a numpy array\n",
    "min_max_scaler = preprocessing.MinMaxScaler()\n",
    "x_scaled = min_max_scaler.fit_transform(x)\n",
    "df = pd.DataFrame(x_scaled,columns=df.columns)\n",
    "df.head(5)"
   ]
  },
  {
   "cell_type": "code",
   "execution_count": null,
   "metadata": {},
   "outputs": [],
   "source": [
    "#####################################################################################################"
   ]
  },
  {
   "cell_type": "code",
   "execution_count": null,
   "metadata": {},
   "outputs": [],
   "source": [
    "################################  RANDOM FOREST  ###################################################"
   ]
  },
  {
   "cell_type": "code",
   "execution_count": 13,
   "metadata": {},
   "outputs": [],
   "source": [
    "y=np.array(df['Status'])\n",
    "X=df"
   ]
  },
  {
   "cell_type": "code",
   "execution_count": 14,
   "metadata": {},
   "outputs": [],
   "source": [
    "df.drop(columns='Status',inplace=True)"
   ]
  },
  {
   "cell_type": "code",
   "execution_count": 15,
   "metadata": {},
   "outputs": [],
   "source": [
    "from sklearn.model_selection import train_test_split\n",
    "xtrain, xtest, ytrain, ytest = train_test_split(X, y, test_size = 0.3)"
   ]
  },
  {
   "cell_type": "code",
   "execution_count": 17,
   "metadata": {},
   "outputs": [],
   "source": [
    "from sklearn.ensemble import RandomForestClassifier\n",
    "model= RandomForestClassifier(n_estimators=100, n_jobs=2, random_state=0)\n"
   ]
  },
  {
   "cell_type": "code",
   "execution_count": 18,
   "metadata": {},
   "outputs": [],
   "source": [
    "y1=model.fit(xtrain, ytrain)"
   ]
  },
  {
   "cell_type": "code",
   "execution_count": 19,
   "metadata": {},
   "outputs": [],
   "source": [
    "y2=model.predict(xtest)"
   ]
  },
  {
   "cell_type": "code",
   "execution_count": 20,
   "metadata": {},
   "outputs": [
    {
     "name": "stdout",
     "output_type": "stream",
     "text": [
      "Accuracy: 0.9508119833499443\n",
      "ROC SCORE: 0.9180355208338247\n",
      "Net Due Dt          0.197455\n",
      "Account             0.196840\n",
      "Pstng Date          0.178546\n",
      "  Local Crcy Amt    0.143307\n",
      "PayT                0.113218\n",
      "Bran                0.092066\n",
      "    BusA            0.044839\n",
      "Zone                0.033731\n",
      "CCAr                0.000000\n",
      "dtype: float64\n",
      "[[26403   716]\n",
      " [  962  6033]]\n"
     ]
    }
   ],
   "source": [
    "from sklearn import metrics\n",
    "from sklearn.metrics import roc_auc_score\n",
    "print(\"Accuracy:\",metrics.accuracy_score(ytest, y2))\n",
    "print('ROC SCORE:',roc_auc_score(ytest, y2))\n",
    "print(pd.Series(model.feature_importances_,index=df.columns).sort_values(ascending=False))\n"
   ]
  },
  {
   "cell_type": "code",
   "execution_count": 25,
   "metadata": {},
   "outputs": [
    {
     "name": "stdout",
     "output_type": "stream",
     "text": [
      "{0.0: 27119, 1.0: 6995}\n",
      "{0.0: 27365, 1.0: 6749}\n",
      "\n",
      "[[26403   716]\n",
      " [  962  6033]]\n"
     ]
    }
   ],
   "source": [
    "unique, counts = np.unique(ytest, return_counts=True)\n",
    "print(dict(zip(unique, counts)))\n",
    "unique, counts = np.unique(y2, return_counts=True)\n",
    "print(dict(zip(unique, counts)))\n",
    "print()\n",
    "print(metrics.confusion_matrix(ytest, y2))"
   ]
  },
  {
   "cell_type": "code",
   "execution_count": null,
   "metadata": {},
   "outputs": [],
   "source": [
    "##############################  lOGISTIC REGRESSION  ####################################"
   ]
  },
  {
   "cell_type": "code",
   "execution_count": 31,
   "metadata": {},
   "outputs": [],
   "source": [
    "from sklearn.linear_model import LogisticRegression\n",
    "logisticRegr = LogisticRegression()\n",
    "logisticRegr.fit(xtrain, ytrain)\n",
    "y4=logisticRegr.predict(xtest)\n"
   ]
  },
  {
   "cell_type": "code",
   "execution_count": 33,
   "metadata": {},
   "outputs": [
    {
     "name": "stdout",
     "output_type": "stream",
     "text": [
      "Accuracy: 0.7964178929471771\n",
      "ROC SCORE: 0.5514181994213364\n",
      "    BusA --------> -0.10896268543661555\n",
      "CCAr --------> 0.0\n",
      "Account --------> 0.5556070829243853\n",
      "Zone --------> -0.045143529781001036\n",
      "Bran --------> 1.106036382225654\n",
      "  Local Crcy Amt --------> -0.47246302690589853\n",
      "PayT --------> 2.208140264773917\n",
      "Pstng Date --------> 0.8812056226557531\n",
      "Net Due Dt --------> 0.9912923069519305\n"
     ]
    }
   ],
   "source": [
    "print(\"Accuracy:\",metrics.accuracy_score(ytest, y4))\n",
    "print('ROC SCORE:',roc_auc_score(ytest, y4))\n",
    "coefficients=logisticRegr.coef_\n",
    "for i in range(len(X.columns)):\n",
    "    print(X.columns[i],'-------->',coefficients[0][i])"
   ]
  },
  {
   "cell_type": "code",
   "execution_count": 28,
   "metadata": {},
   "outputs": [
    {
     "name": "stdout",
     "output_type": "stream",
     "text": [
      "{0.0: 27119, 1.0: 6995}\n",
      "{0.0: 32260, 1.0: 1854}\n",
      "\n",
      "[[26403   716]\n",
      " [  962  6033]]\n"
     ]
    }
   ],
   "source": [
    "unique, counts = np.unique(ytest, return_counts=True)\n",
    "print(dict(zip(unique, counts)))\n",
    "unique, counts = np.unique(y4, return_counts=True)\n",
    "print(dict(zip(unique, counts)))\n",
    "print()\n",
    "print(metrics.confusion_matrix(ytest, y2))\n",
    "\n"
   ]
  },
  {
   "cell_type": "code",
   "execution_count": null,
   "metadata": {},
   "outputs": [],
   "source": []
  }
 ],
 "metadata": {
  "kernelspec": {
   "display_name": "Python 3",
   "language": "python",
   "name": "python3"
  },
  "language_info": {
   "codemirror_mode": {
    "name": "ipython",
    "version": 3
   },
   "file_extension": ".py",
   "mimetype": "text/x-python",
   "name": "python",
   "nbconvert_exporter": "python",
   "pygments_lexer": "ipython3",
   "version": "3.7.3"
  }
 },
 "nbformat": 4,
 "nbformat_minor": 2
}
