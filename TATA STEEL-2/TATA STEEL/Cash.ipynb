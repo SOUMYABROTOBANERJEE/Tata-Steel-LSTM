{
 "cells": [
  {
   "cell_type": "code",
   "execution_count": 1,
   "metadata": {},
   "outputs": [],
   "source": [
    "import pandas as pd\n",
    "import numpy as np\n",
    "from pmdarima.arima import auto_arima\n",
    "import matplotlib.pyplot as plt\n",
    "import warnings\n",
    "warnings.filterwarnings('ignore')\n",
    "import time"
   ]
  },
  {
   "cell_type": "code",
   "execution_count": 2,
   "metadata": {},
   "outputs": [
    {
     "name": "stdout",
     "output_type": "stream",
     "text": [
      "Total Number of Unique Customers =  129\n"
     ]
    }
   ],
   "source": [
    "df1=pd.read_csv('MyData.csv')\n",
    "df1=df1[df1['Sale.Type']=='Credit']\n",
    "df2=df1[['Pstng.Date','Account','Local.Crcy.Amt']]\n",
    "df2.index=pd.to_datetime(df1['Pstng.Date'])\n",
    "df=df2#pd.read_csv('CashData.csv',  parse_dates = ['Pstng.Date'], index_col=1)\n",
    "df.drop(columns='Pstng.Date',inplace=True)\n",
    "print('Total Number of Unique Customers = ', len(np.unique(df['Account'])))"
   ]
  },
  {
   "cell_type": "code",
   "execution_count": 3,
   "metadata": {},
   "outputs": [],
   "source": [
    "dic={}\n",
    "def cash(df,date,offset_days,offset_count,c=[1,2,1,1,1]):\n",
    "    unique_customer=np.unique(df['Account'])\n",
    "    df=df.sort_index()\n",
    "    out=unique_customer\n",
    "    for cust in unique_customer[:5]:\n",
    "        df_targets=df[df['Account'] == cust]\n",
    "        #print(df_targets.head())\n",
    "        df_targets.drop(columns='Account',inplace=True)\n",
    "        train1=df_targets[df_targets.index <= pd.to_datetime(date,format='%Y%m%d') ]\n",
    "        train=train1.groupby(train1.index,as_index=True).mean()\n",
    "        valid=df_targets[df_targets.index >= pd.to_datetime(date,format='%Y%m%d') ]\n",
    "        valid=valid.groupby(valid.index,as_index=True).mean()\n",
    "        \n",
    "        \n",
    "        if(len(train)<2):\n",
    "            print()\n",
    "            print('NO TRANSACTIONS EXPECTED FROM THIS CUSTOMER ',cust)\n",
    "            print()\n",
    "            print('Moving on...')\n",
    "            print('---------------------------------------------------------------------------------------------------')\n",
    "            continue\n",
    "            \n",
    "        d=pd.to_datetime(date,format='%Y%m%d')-pd.to_timedelta(offset_days, unit='D')\n",
    "        \n",
    "        if(len(train[train.index > pd.to_datetime(d,format='%Y%m%d')]) < offset_count):\n",
    "            print()\n",
    "            print('NO TRANSACTIONS EXPECTED FROM THIS CUSTOMER ',cust)\n",
    "            print()\n",
    "            print('Moving on...')\n",
    "            print('---------------------------------------------------------------------------------------------------')\n",
    "            continue\n",
    "        \n",
    "        if(len(valid)<3):\n",
    "            print()\n",
    "            print('NO TRANSACTIONS EXPECTED FROM THIS CUSTOMER ',cust)\n",
    "            print()\n",
    "            print('Moving on...')\n",
    "            print('---------------------------------------------------------------------------------------------------')\n",
    "            continue\n",
    "            \n",
    "        grp=train1.groupby(train1.index).size().reset_index().rename(columns={0:'records'})\n",
    "        day=pd.to_datetime(date,format='%Y%m%d')-pd.to_timedelta(5,unit='D')\n",
    "        grp=grp[grp['Pstng.Date'] >= day]\n",
    "        count=grp['records'].mean()\n",
    "        print('Average_count= ',count)\n",
    "        \n",
    "        \n",
    "        model = auto_arima(train, trace=True,error_action='warn',n_iter=10,n_jobs=-1,solver='newton')\n",
    "        model.fit(train)\n",
    "        forecast = model.forecast(5)\n",
    "        if(count == 0):\n",
    "            count=1\n",
    "        \n",
    "        dic.update({cust:forecast*count*c})\n",
    "\n",
    "\n",
    "        print('----------------------------------------------------------------------------------------------------------')\n"
   ]
  },
  {
   "cell_type": "code",
   "execution_count": 4,
   "metadata": {},
   "outputs": [
    {
     "name": "stdout",
     "output_type": "stream",
     "text": [
      "Average_count=  2.0\n",
      "Fit ARIMA: order=(2, 0, 2) seasonal_order=(0, 0, 0, 1); AIC=-719.851, BIC=-701.867, Fit time=1.042 seconds\n",
      "Fit ARIMA: order=(0, 0, 0) seasonal_order=(0, 0, 0, 1); AIC=-725.262, BIC=-719.268, Fit time=0.089 seconds\n",
      "Fit ARIMA: order=(1, 0, 0) seasonal_order=(0, 0, 0, 1); AIC=-723.786, BIC=-714.795, Fit time=0.096 seconds\n",
      "Fit ARIMA: order=(0, 0, 1) seasonal_order=(0, 0, 0, 1); AIC=-723.704, BIC=-714.712, Fit time=0.238 seconds\n",
      "Fit ARIMA: order=(1, 0, 1) seasonal_order=(0, 0, 0, 1); AIC=-723.429, BIC=-711.441, Fit time=0.568 seconds\n",
      "Total fit time: 2.047 seconds\n"
     ]
    },
    {
     "ename": "AttributeError",
     "evalue": "'ARIMA' object has no attribute 'forecast'",
     "output_type": "error",
     "traceback": [
      "\u001b[1;31m---------------------------------------------------------------------------\u001b[0m",
      "\u001b[1;31mAttributeError\u001b[0m                            Traceback (most recent call last)",
      "\u001b[1;32m<ipython-input-4-57c5b3a5265f>\u001b[0m in \u001b[0;36m<module>\u001b[1;34m\u001b[0m\n\u001b[0;32m      3\u001b[0m \u001b[0moffset_count\u001b[0m\u001b[1;33m=\u001b[0m\u001b[1;36m5\u001b[0m\u001b[1;33m\u001b[0m\u001b[1;33m\u001b[0m\u001b[0m\n\u001b[0;32m      4\u001b[0m \u001b[0mc6765\u001b[0m\u001b[1;33m=\u001b[0m\u001b[1;33m[\u001b[0m\u001b[1;36m1\u001b[0m\u001b[1;33m,\u001b[0m\u001b[1;36m1\u001b[0m\u001b[1;33m,\u001b[0m\u001b[1;36m1\u001b[0m\u001b[1;33m,\u001b[0m\u001b[1;36m1\u001b[0m\u001b[1;33m,\u001b[0m\u001b[1;36m1\u001b[0m\u001b[1;33m]\u001b[0m\u001b[1;33m\u001b[0m\u001b[1;33m\u001b[0m\u001b[0m\n\u001b[1;32m----> 5\u001b[1;33m \u001b[0mcash\u001b[0m\u001b[1;33m(\u001b[0m\u001b[0mdf\u001b[0m\u001b[1;33m,\u001b[0m\u001b[0mdate\u001b[0m\u001b[1;33m,\u001b[0m\u001b[0moffset_days\u001b[0m\u001b[1;33m,\u001b[0m\u001b[0moffset_count\u001b[0m\u001b[1;33m,\u001b[0m\u001b[0mc6765\u001b[0m\u001b[1;33m)\u001b[0m\u001b[1;33m\u001b[0m\u001b[1;33m\u001b[0m\u001b[0m\n\u001b[0m\u001b[0;32m      6\u001b[0m \u001b[0mout\u001b[0m\u001b[1;33m=\u001b[0m\u001b[0mpd\u001b[0m\u001b[1;33m.\u001b[0m\u001b[0mDataFrame\u001b[0m\u001b[1;33m.\u001b[0m\u001b[0mfrom_dict\u001b[0m\u001b[1;33m(\u001b[0m\u001b[0mdic\u001b[0m\u001b[1;33m,\u001b[0m\u001b[0morient\u001b[0m\u001b[1;33m=\u001b[0m\u001b[1;34m'index'\u001b[0m\u001b[1;33m)\u001b[0m\u001b[1;33m\u001b[0m\u001b[1;33m\u001b[0m\u001b[0m\n\u001b[0;32m      7\u001b[0m \u001b[0mout\u001b[0m\u001b[1;33m.\u001b[0m\u001b[0mto_csv\u001b[0m\u001b[1;33m(\u001b[0m\u001b[1;34m'output_cash.csv'\u001b[0m\u001b[1;33m)\u001b[0m\u001b[1;33m\u001b[0m\u001b[1;33m\u001b[0m\u001b[0m\n",
      "\u001b[1;32m<ipython-input-3-f45b2b44a785>\u001b[0m in \u001b[0;36mcash\u001b[1;34m(df, date, offset_days, offset_count, c)\u001b[0m\n\u001b[0;32m     49\u001b[0m         \u001b[0mmodel\u001b[0m \u001b[1;33m=\u001b[0m \u001b[0mauto_arima\u001b[0m\u001b[1;33m(\u001b[0m\u001b[0mtrain\u001b[0m\u001b[1;33m,\u001b[0m \u001b[0mtrace\u001b[0m\u001b[1;33m=\u001b[0m\u001b[1;32mTrue\u001b[0m\u001b[1;33m,\u001b[0m\u001b[0merror_action\u001b[0m\u001b[1;33m=\u001b[0m\u001b[1;34m'warn'\u001b[0m\u001b[1;33m,\u001b[0m\u001b[0mn_iter\u001b[0m\u001b[1;33m=\u001b[0m\u001b[1;36m10\u001b[0m\u001b[1;33m,\u001b[0m\u001b[0mn_jobs\u001b[0m\u001b[1;33m=\u001b[0m\u001b[1;33m-\u001b[0m\u001b[1;36m1\u001b[0m\u001b[1;33m,\u001b[0m\u001b[0msolver\u001b[0m\u001b[1;33m=\u001b[0m\u001b[1;34m'newton'\u001b[0m\u001b[1;33m)\u001b[0m\u001b[1;33m\u001b[0m\u001b[1;33m\u001b[0m\u001b[0m\n\u001b[0;32m     50\u001b[0m         \u001b[0mmodel\u001b[0m\u001b[1;33m.\u001b[0m\u001b[0mfit\u001b[0m\u001b[1;33m(\u001b[0m\u001b[0mtrain\u001b[0m\u001b[1;33m)\u001b[0m\u001b[1;33m\u001b[0m\u001b[1;33m\u001b[0m\u001b[0m\n\u001b[1;32m---> 51\u001b[1;33m         \u001b[0mforecast\u001b[0m \u001b[1;33m=\u001b[0m \u001b[0mmodel\u001b[0m\u001b[1;33m.\u001b[0m\u001b[0mforecast\u001b[0m\u001b[1;33m(\u001b[0m\u001b[1;36m5\u001b[0m\u001b[1;33m)\u001b[0m\u001b[1;33m\u001b[0m\u001b[1;33m\u001b[0m\u001b[0m\n\u001b[0m\u001b[0;32m     52\u001b[0m         \u001b[1;32mif\u001b[0m\u001b[1;33m(\u001b[0m\u001b[0mcount\u001b[0m \u001b[1;33m==\u001b[0m \u001b[1;36m0\u001b[0m\u001b[1;33m)\u001b[0m\u001b[1;33m:\u001b[0m\u001b[1;33m\u001b[0m\u001b[1;33m\u001b[0m\u001b[0m\n\u001b[0;32m     53\u001b[0m             \u001b[0mcount\u001b[0m\u001b[1;33m=\u001b[0m\u001b[1;36m1\u001b[0m\u001b[1;33m\u001b[0m\u001b[1;33m\u001b[0m\u001b[0m\n",
      "\u001b[1;31mAttributeError\u001b[0m: 'ARIMA' object has no attribute 'forecast'"
     ]
    }
   ],
   "source": [
    "date=20181101\n",
    "offset_days=60\n",
    "offset_count=5\n",
    "c6765=[1,1,1,1,1]\n",
    "cash(df,date,offset_days,offset_count,c6765)\n",
    "out=pd.DataFrame.from_dict(dic,orient='index')\n",
    "out.to_csv('output_cash.csv')"
   ]
  },
  {
   "cell_type": "code",
   "execution_count": 18,
   "metadata": {},
   "outputs": [
    {
     "data": {
      "text/html": [
       "<div>\n",
       "<style scoped>\n",
       "    .dataframe tbody tr th:only-of-type {\n",
       "        vertical-align: middle;\n",
       "    }\n",
       "\n",
       "    .dataframe tbody tr th {\n",
       "        vertical-align: top;\n",
       "    }\n",
       "\n",
       "    .dataframe thead th {\n",
       "        text-align: right;\n",
       "    }\n",
       "</style>\n",
       "<table border=\"1\" class=\"dataframe\">\n",
       "  <thead>\n",
       "    <tr style=\"text-align: right;\">\n",
       "      <th></th>\n",
       "      <th>0</th>\n",
       "      <th>1</th>\n",
       "      <th>2</th>\n",
       "      <th>3</th>\n",
       "      <th>4</th>\n",
       "    </tr>\n",
       "  </thead>\n",
       "  <tbody>\n",
       "    <tr>\n",
       "      <th>100237</th>\n",
       "      <td>0.349765</td>\n",
       "      <td>0.349765</td>\n",
       "      <td>0.349765</td>\n",
       "      <td>0.349765</td>\n",
       "      <td>0.349765</td>\n",
       "    </tr>\n",
       "    <tr>\n",
       "      <th>100789</th>\n",
       "      <td>4.312711</td>\n",
       "      <td>4.115460</td>\n",
       "      <td>4.076501</td>\n",
       "      <td>4.071958</td>\n",
       "      <td>4.074897</td>\n",
       "    </tr>\n",
       "    <tr>\n",
       "      <th>100985</th>\n",
       "      <td>0.897943</td>\n",
       "      <td>0.897997</td>\n",
       "      <td>0.898051</td>\n",
       "      <td>0.898106</td>\n",
       "      <td>0.898160</td>\n",
       "    </tr>\n",
       "  </tbody>\n",
       "</table>\n",
       "</div>"
      ],
      "text/plain": [
       "               0         1         2         3         4\n",
       "100237  0.349765  0.349765  0.349765  0.349765  0.349765\n",
       "100789  4.312711  4.115460  4.076501  4.071958  4.074897\n",
       "100985  0.897943  0.897997  0.898051  0.898106  0.898160"
      ]
     },
     "execution_count": 18,
     "metadata": {},
     "output_type": "execute_result"
    }
   ],
   "source": [
    "out"
   ]
  },
  {
   "cell_type": "code",
   "execution_count": null,
   "metadata": {},
   "outputs": [],
   "source": []
  },
  {
   "cell_type": "code",
   "execution_count": null,
   "metadata": {},
   "outputs": [],
   "source": []
  }
 ],
 "metadata": {
  "kernelspec": {
   "display_name": "Python 3",
   "language": "python",
   "name": "python3"
  },
  "language_info": {
   "codemirror_mode": {
    "name": "ipython",
    "version": 3
   },
   "file_extension": ".py",
   "mimetype": "text/x-python",
   "name": "python",
   "nbconvert_exporter": "python",
   "pygments_lexer": "ipython3",
   "version": "3.7.3"
  }
 },
 "nbformat": 4,
 "nbformat_minor": 2
}
