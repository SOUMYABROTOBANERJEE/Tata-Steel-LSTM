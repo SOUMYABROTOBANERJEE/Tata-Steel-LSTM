{
 "cells": [
  {
   "cell_type": "code",
   "execution_count": 1,
   "metadata": {},
   "outputs": [],
   "source": [
    "import pandas as pd\n",
    "import numpy as np\n",
    "import matplotlib.pyplot as plt\n",
    "from sklearn.preprocessing import MinMaxScaler"
   ]
  },
  {
   "cell_type": "code",
   "execution_count": 2,
   "metadata": {},
   "outputs": [
    {
     "name": "stderr",
     "output_type": "stream",
     "text": [
      "Using TensorFlow backend.\n"
     ]
    }
   ],
   "source": [
    "from keras.models import Sequential\n",
    "from keras.layers import Dense\n",
    "from keras.layers import LSTM\n",
    "from keras.layers import Dropout"
   ]
  },
  {
   "cell_type": "code",
   "execution_count": 61,
   "metadata": {},
   "outputs": [
    {
     "data": {
      "text/plain": [
       "<matplotlib.axes._subplots.AxesSubplot at 0x1d3eefd0>"
      ]
     },
     "execution_count": 61,
     "metadata": {},
     "output_type": "execute_result"
    },
    {
     "data": {
      "image/png": "[encoded data removed]",
      "text/plain": [
       "<Figure size 432x288 with 1 Axes>"
      ]
     },
     "metadata": {
      "needs_background": "light"
     },
     "output_type": "display_data"
    }
   ],
   "source": [
    "df=pd.read_csv('MyData.csv',usecols=['Clearing','Local.Crcy.Amt','Sales','Pending_Amy','pending_cnt'],parse_dates=['Clearing'])\n",
    "df.index=df['Clearing']\n",
    "df.drop(columns='Clearing',inplace=True)\n",
    "df=df.groupby(df.index).sum()\n",
    "df=df[df.index<pd.to_datetime('20190101',format='%Y%m%d')]\n",
    "df.plot()"
   ]
  },
  {
   "cell_type": "code",
   "execution_count": 62,
   "metadata": {},
   "outputs": [],
   "source": [
    "date='20181105'\n",
    "train=df[df.index < pd.to_datetime(date,format='%Y%m%d')]\n",
    "test=df[df.index >= pd.to_datetime(date,format='%Y%m%d')]"
   ]
  },
  {
   "cell_type": "code",
   "execution_count": 63,
   "metadata": {},
   "outputs": [
    {
     "data": {
      "text/html": [
       "<div>\n",
       "<style scoped>\n",
       "    .dataframe tbody tr th:only-of-type {\n",
       "        vertical-align: middle;\n",
       "    }\n",
       "\n",
       "    .dataframe tbody tr th {\n",
       "        vertical-align: top;\n",
       "    }\n",
       "\n",
       "    .dataframe thead th {\n",
       "        text-align: right;\n",
       "    }\n",
       "</style>\n",
       "<table border=\"1\" class=\"dataframe\">\n",
       "  <thead>\n",
       "    <tr style=\"text-align: right;\">\n",
       "      <th></th>\n",
       "      <th>Local.Crcy.Amt</th>\n",
       "      <th>Pending_Amy</th>\n",
       "      <th>pending_cnt</th>\n",
       "      <th>Sales</th>\n",
       "    </tr>\n",
       "    <tr>\n",
       "      <th>Clearing</th>\n",
       "      <th></th>\n",
       "      <th></th>\n",
       "      <th></th>\n",
       "      <th></th>\n",
       "    </tr>\n",
       "  </thead>\n",
       "  <tbody>\n",
       "    <tr>\n",
       "      <th>2018-01-04</th>\n",
       "      <td>0.16</td>\n",
       "      <td>0.00</td>\n",
       "      <td>0</td>\n",
       "      <td>741.982</td>\n",
       "    </tr>\n",
       "    <tr>\n",
       "      <th>2018-01-05</th>\n",
       "      <td>16.66</td>\n",
       "      <td>191.01</td>\n",
       "      <td>1457</td>\n",
       "      <td>504805.880</td>\n",
       "    </tr>\n",
       "    <tr>\n",
       "      <th>2018-01-06</th>\n",
       "      <td>40.65</td>\n",
       "      <td>1068.96</td>\n",
       "      <td>7390</td>\n",
       "      <td>973344.268</td>\n",
       "    </tr>\n",
       "    <tr>\n",
       "      <th>2018-01-07</th>\n",
       "      <td>1.97</td>\n",
       "      <td>7.36</td>\n",
       "      <td>60</td>\n",
       "      <td>32371.638</td>\n",
       "    </tr>\n",
       "    <tr>\n",
       "      <th>2018-01-08</th>\n",
       "      <td>24.68</td>\n",
       "      <td>521.82</td>\n",
       "      <td>3672</td>\n",
       "      <td>400549.374</td>\n",
       "    </tr>\n",
       "  </tbody>\n",
       "</table>\n",
       "</div>"
      ],
      "text/plain": [
       "            Local.Crcy.Amt  Pending_Amy  pending_cnt       Sales\n",
       "Clearing                                                        \n",
       "2018-01-04            0.16         0.00            0     741.982\n",
       "2018-01-05           16.66       191.01         1457  504805.880\n",
       "2018-01-06           40.65      1068.96         7390  973344.268\n",
       "2018-01-07            1.97         7.36           60   32371.638\n",
       "2018-01-08           24.68       521.82         3672  400549.374"
      ]
     },
     "execution_count": 63,
     "metadata": {},
     "output_type": "execute_result"
    }
   ],
   "source": [
    "train.head()"
   ]
  },
  {
   "cell_type": "code",
   "execution_count": 64,
   "metadata": {},
   "outputs": [],
   "source": [
    "train = train.values\n",
    "test= test.values\n"
   ]
  },
  {
   "cell_type": "code",
   "execution_count": 65,
   "metadata": {},
   "outputs": [
    {
     "data": {
      "text/plain": [
       "MinMaxScaler(copy=True, feature_range=(0, 1))"
      ]
     },
     "execution_count": 65,
     "metadata": {},
     "output_type": "execute_result"
    }
   ],
   "source": [
    "x=train[:,0].reshape(len(train),1)\n",
    "y=test[:,0].reshape(len(test),1)\n",
    "crc=MinMaxScaler(feature_range=(0,1))\n",
    "crc.fit(x)"
   ]
  },
  {
   "cell_type": "code",
   "execution_count": null,
   "metadata": {},
   "outputs": [],
   "source": []
  },
  {
   "cell_type": "code",
   "execution_count": 66,
   "metadata": {},
   "outputs": [],
   "source": [
    "sc = MinMaxScaler(feature_range = (0, 1))\n",
    "train = sc.fit_transform(train)\n",
    "test= sc.transform(test)"
   ]
  },
  {
   "cell_type": "code",
   "execution_count": 67,
   "metadata": {},
   "outputs": [],
   "source": [
    "X_train = []\n",
    "y_train = []\n",
    "for i in range(15, len(train)):\n",
    "    X_train.append(train[i-15:i, ])\n",
    "    y_train.append(train[i, 0])\n",
    "X_train, y_train = np.array(X_train), np.array(y_train)\n",
    "\n",
    "X_train = np.reshape(X_train, (X_train.shape[0],X_train.shape[1] , len(df.columns)))\n",
    "\n"
   ]
  },
  {
   "cell_type": "code",
   "execution_count": null,
   "metadata": {},
   "outputs": [],
   "source": []
  },
  {
   "cell_type": "code",
   "execution_count": null,
   "metadata": {},
   "outputs": [],
   "source": []
  },
  {
   "cell_type": "code",
   "execution_count": 68,
   "metadata": {},
   "outputs": [
    {
     "name": "stdout",
     "output_type": "stream",
     "text": [
      "Epoch 1/150\n",
      "206/206 [==============================] - 17s 84ms/step - loss: 0.0739\n",
      "Epoch 2/150\n",
      "206/206 [==============================] - 1s 7ms/step - loss: 0.0358\n",
      "Epoch 3/150\n",
      "206/206 [==============================] - 1s 6ms/step - loss: 0.0312\n",
      "Epoch 4/150\n",
      "206/206 [==============================] - 1s 7ms/step - loss: 0.0322\n",
      "Epoch 5/150\n",
      "206/206 [==============================] - 2s 8ms/step - loss: 0.0305\n",
      "Epoch 6/150\n",
      "206/206 [==============================] - 2s 9ms/step - loss: 0.0309\n",
      "Epoch 7/150\n",
      "206/206 [==============================] - 2s 11ms/step - loss: 0.0310\n",
      "Epoch 8/150\n",
      "206/206 [==============================] - 5s 25ms/step - loss: 0.0306\n",
      "Epoch 9/150\n",
      "206/206 [==============================] - 7s 32ms/step - loss: 0.0311\n",
      "Epoch 10/150\n",
      "206/206 [==============================] - 2s 12ms/step - loss: 0.0311\n",
      "Epoch 11/150\n",
      "206/206 [==============================] - 4s 20ms/step - loss: 0.0295\n",
      "Epoch 12/150\n",
      "206/206 [==============================] - 3s 17ms/step - loss: 0.0304\n",
      "Epoch 13/150\n",
      "206/206 [==============================] - 3s 16ms/step - loss: 0.0310\n",
      "Epoch 14/150\n",
      "206/206 [==============================] - 2s 9ms/step - loss: 0.0299\n",
      "Epoch 15/150\n",
      "206/206 [==============================] - 2s 10ms/step - loss: 0.0305\n",
      "Epoch 16/150\n",
      "206/206 [==============================] - 2s 9ms/step - loss: 0.0312\n",
      "Epoch 17/150\n",
      "206/206 [==============================] - 2s 8ms/step - loss: 0.0319\n",
      "Epoch 18/150\n",
      "206/206 [==============================] - 2s 8ms/step - loss: 0.0309\n",
      "Epoch 19/150\n",
      "206/206 [==============================] - 2s 9ms/step - loss: 0.0300\n",
      "Epoch 20/150\n",
      "206/206 [==============================] - 2s 9ms/step - loss: 0.0290\n",
      "Epoch 21/150\n",
      "206/206 [==============================] - 2s 8ms/step - loss: 0.0297\n",
      "Epoch 22/150\n",
      "206/206 [==============================] - 2s 9ms/step - loss: 0.0292\n",
      "Epoch 23/150\n",
      "206/206 [==============================] - 2s 9ms/step - loss: 0.0295\n",
      "Epoch 24/150\n",
      "206/206 [==============================] - 2s 8ms/step - loss: 0.0300\n",
      "Epoch 25/150\n",
      "206/206 [==============================] - 1s 7ms/step - loss: 0.0320\n",
      "Epoch 26/150\n",
      "206/206 [==============================] - 2s 8ms/step - loss: 0.0314\n",
      "Epoch 27/150\n",
      "206/206 [==============================] - 2s 7ms/step - loss: 0.0310\n",
      "Epoch 28/150\n",
      "206/206 [==============================] - 1s 7ms/step - loss: 0.0285\n",
      "Epoch 29/150\n",
      "206/206 [==============================] - 2s 10ms/step - loss: 0.0304\n",
      "Epoch 30/150\n",
      "206/206 [==============================] - 1s 7ms/step - loss: 0.0301\n",
      "Epoch 31/150\n",
      "206/206 [==============================] - 1s 7ms/step - loss: 0.0305\n",
      "Epoch 32/150\n",
      "206/206 [==============================] - 1s 7ms/step - loss: 0.0300\n",
      "Epoch 33/150\n",
      "206/206 [==============================] - 1s 7ms/step - loss: 0.0304\n",
      "Epoch 34/150\n",
      "206/206 [==============================] - 1s 7ms/step - loss: 0.0298\n",
      "Epoch 35/150\n",
      "206/206 [==============================] - 1s 7ms/step - loss: 0.0293\n",
      "Epoch 36/150\n",
      "206/206 [==============================] - 1s 7ms/step - loss: 0.0296\n",
      "Epoch 37/150\n",
      "206/206 [==============================] - 1s 7ms/step - loss: 0.0290\n",
      "Epoch 38/150\n",
      "206/206 [==============================] - 1s 7ms/step - loss: 0.0284\n",
      "Epoch 39/150\n",
      "206/206 [==============================] - 1s 7ms/step - loss: 0.0282\n",
      "Epoch 40/150\n",
      "206/206 [==============================] - 1s 7ms/step - loss: 0.0287\n",
      "Epoch 41/150\n",
      "206/206 [==============================] - 2s 8ms/step - loss: 0.0293\n",
      "Epoch 42/150\n",
      "206/206 [==============================] - 1s 7ms/step - loss: 0.0292\n",
      "Epoch 43/150\n",
      "206/206 [==============================] - 1s 7ms/step - loss: 0.0277\n",
      "Epoch 44/150\n",
      "206/206 [==============================] - 1s 7ms/step - loss: 0.0275\n",
      "Epoch 45/150\n",
      "206/206 [==============================] - 1s 7ms/step - loss: 0.0287\n",
      "Epoch 46/150\n",
      "206/206 [==============================] - 1s 7ms/step - loss: 0.0295\n",
      "Epoch 47/150\n",
      "206/206 [==============================] - 1s 7ms/step - loss: 0.0276\n",
      "Epoch 48/150\n",
      "206/206 [==============================] - 2s 8ms/step - loss: 0.0313\n",
      "Epoch 49/150\n",
      "206/206 [==============================] - 3s 13ms/step - loss: 0.0304\n",
      "Epoch 50/150\n",
      "206/206 [==============================] - 1s 7ms/step - loss: 0.0305\n",
      "Epoch 51/150\n",
      "206/206 [==============================] - 2s 8ms/step - loss: 0.0303\n",
      "Epoch 52/150\n",
      "206/206 [==============================] - 2s 8ms/step - loss: 0.0291\n",
      "Epoch 53/150\n",
      "206/206 [==============================] - 2s 8ms/step - loss: 0.0276\n",
      "Epoch 54/150\n",
      "206/206 [==============================] - 1s 7ms/step - loss: 0.0285\n",
      "Epoch 55/150\n",
      "206/206 [==============================] - 1s 7ms/step - loss: 0.0275\n",
      "Epoch 56/150\n",
      "206/206 [==============================] - 1s 7ms/step - loss: 0.0272\n",
      "Epoch 57/150\n",
      "206/206 [==============================] - 1s 7ms/step - loss: 0.0281\n",
      "Epoch 58/150\n",
      "206/206 [==============================] - 1s 7ms/step - loss: 0.0265\n",
      "Epoch 59/150\n",
      "206/206 [==============================] - 1s 7ms/step - loss: 0.0286\n",
      "Epoch 60/150\n",
      "206/206 [==============================] - 1s 7ms/step - loss: 0.0259\n",
      "Epoch 61/150\n",
      "206/206 [==============================] - 1s 7ms/step - loss: 0.0264\n",
      "Epoch 62/150\n",
      "206/206 [==============================] - 1s 7ms/step - loss: 0.0256\n",
      "Epoch 63/150\n",
      "206/206 [==============================] - 1s 7ms/step - loss: 0.0263\n",
      "Epoch 64/150\n",
      "206/206 [==============================] - 1s 6ms/step - loss: 0.0274\n",
      "Epoch 65/150\n",
      "206/206 [==============================] - 1s 7ms/step - loss: 0.0257\n",
      "Epoch 66/150\n",
      "206/206 [==============================] - 1s 7ms/step - loss: 0.0260\n",
      "Epoch 67/150\n",
      "206/206 [==============================] - 1s 7ms/step - loss: 0.0246\n",
      "Epoch 68/150\n",
      "206/206 [==============================] - 1s 6ms/step - loss: 0.0249\n",
      "Epoch 69/150\n",
      "206/206 [==============================] - 1s 7ms/step - loss: 0.0234\n",
      "Epoch 70/150\n",
      "206/206 [==============================] - 1s 7ms/step - loss: 0.0243\n",
      "Epoch 71/150\n",
      "206/206 [==============================] - 1s 7ms/step - loss: 0.0240\n",
      "Epoch 72/150\n",
      "206/206 [==============================] - 1s 7ms/step - loss: 0.0243\n",
      "Epoch 73/150\n",
      "206/206 [==============================] - 1s 7ms/step - loss: 0.0272\n",
      "Epoch 74/150\n",
      "206/206 [==============================] - 1s 7ms/step - loss: 0.0256\n",
      "Epoch 75/150\n",
      "206/206 [==============================] - 1s 7ms/step - loss: 0.0254\n",
      "Epoch 76/150\n",
      "206/206 [==============================] - 1s 6ms/step - loss: 0.0246\n",
      "Epoch 77/150\n",
      "206/206 [==============================] - 1s 7ms/step - loss: 0.0244\n",
      "Epoch 78/150\n",
      "206/206 [==============================] - 2s 8ms/step - loss: 0.0249\n",
      "Epoch 79/150\n",
      "206/206 [==============================] - 1s 7ms/step - loss: 0.0256\n",
      "Epoch 80/150\n",
      "206/206 [==============================] - 1s 7ms/step - loss: 0.0245\n",
      "Epoch 81/150\n",
      "206/206 [==============================] - 1s 7ms/step - loss: 0.0243\n",
      "Epoch 82/150\n",
      "206/206 [==============================] - 1s 7ms/step - loss: 0.0239\n",
      "Epoch 83/150\n",
      "206/206 [==============================] - 1s 7ms/step - loss: 0.0255\n",
      "Epoch 84/150\n",
      "206/206 [==============================] - 1s 7ms/step - loss: 0.0243\n",
      "Epoch 85/150\n",
      "206/206 [==============================] - 1s 7ms/step - loss: 0.0236\n",
      "Epoch 86/150\n",
      "206/206 [==============================] - 1s 7ms/step - loss: 0.0214\n",
      "Epoch 87/150\n",
      "206/206 [==============================] - 1s 7ms/step - loss: 0.0230\n",
      "Epoch 88/150\n",
      "206/206 [==============================] - 1s 6ms/step - loss: 0.0240\n",
      "Epoch 89/150\n",
      "206/206 [==============================] - 1s 7ms/step - loss: 0.0232\n",
      "Epoch 90/150\n",
      "206/206 [==============================] - 1s 7ms/step - loss: 0.0236\n",
      "Epoch 91/150\n",
      "206/206 [==============================] - 1s 7ms/step - loss: 0.0238\n",
      "Epoch 92/150\n",
      "206/206 [==============================] - 1s 7ms/step - loss: 0.0233\n",
      "Epoch 93/150\n",
      "206/206 [==============================] - 1s 7ms/step - loss: 0.0222\n",
      "Epoch 94/150\n",
      "206/206 [==============================] - 1s 7ms/step - loss: 0.0247\n",
      "Epoch 95/150\n",
      "206/206 [==============================] - 1s 7ms/step - loss: 0.0223\n",
      "Epoch 96/150\n",
      "206/206 [==============================] - 1s 7ms/step - loss: 0.0224\n",
      "Epoch 97/150\n",
      "206/206 [==============================] - 1s 7ms/step - loss: 0.0242\n",
      "Epoch 98/150\n",
      "206/206 [==============================] - 1s 7ms/step - loss: 0.0217\n",
      "Epoch 99/150\n"
     ]
    },
    {
     "name": "stdout",
     "output_type": "stream",
     "text": [
      "206/206 [==============================] - 1s 6ms/step - loss: 0.0220\n",
      "Epoch 100/150\n",
      "206/206 [==============================] - 1s 6ms/step - loss: 0.0223\n",
      "Epoch 101/150\n",
      "206/206 [==============================] - 1s 6ms/step - loss: 0.0223\n",
      "Epoch 102/150\n",
      "206/206 [==============================] - 1s 6ms/step - loss: 0.0207\n",
      "Epoch 103/150\n",
      "206/206 [==============================] - 1s 6ms/step - loss: 0.0228\n",
      "Epoch 104/150\n",
      "206/206 [==============================] - 1s 6ms/step - loss: 0.0222\n",
      "Epoch 105/150\n",
      "206/206 [==============================] - 1s 6ms/step - loss: 0.0237\n",
      "Epoch 106/150\n",
      "206/206 [==============================] - 1s 6ms/step - loss: 0.0241\n",
      "Epoch 107/150\n",
      "206/206 [==============================] - 1s 6ms/step - loss: 0.0204\n",
      "Epoch 108/150\n",
      "206/206 [==============================] - 1s 6ms/step - loss: 0.0233\n",
      "Epoch 109/150\n",
      "206/206 [==============================] - 1s 6ms/step - loss: 0.0221\n",
      "Epoch 110/150\n",
      "206/206 [==============================] - 1s 6ms/step - loss: 0.0222\n",
      "Epoch 111/150\n",
      "206/206 [==============================] - 1s 6ms/step - loss: 0.0214\n",
      "Epoch 112/150\n",
      "206/206 [==============================] - 1s 6ms/step - loss: 0.0218\n",
      "Epoch 113/150\n",
      "206/206 [==============================] - 1s 6ms/step - loss: 0.0207\n",
      "Epoch 114/150\n",
      "206/206 [==============================] - 1s 6ms/step - loss: 0.0230\n",
      "Epoch 115/150\n",
      "206/206 [==============================] - 1s 6ms/step - loss: 0.0211\n",
      "Epoch 116/150\n",
      "206/206 [==============================] - 1s 6ms/step - loss: 0.0213\n",
      "Epoch 117/150\n",
      "206/206 [==============================] - 1s 6ms/step - loss: 0.0239\n",
      "Epoch 118/150\n",
      "206/206 [==============================] - 1s 6ms/step - loss: 0.0225\n",
      "Epoch 119/150\n",
      "206/206 [==============================] - 1s 6ms/step - loss: 0.0237\n",
      "Epoch 120/150\n",
      "206/206 [==============================] - 1s 6ms/step - loss: 0.0263\n",
      "Epoch 121/150\n",
      "206/206 [==============================] - 1s 6ms/step - loss: 0.0240A: 0s - loss: 0\n",
      "Epoch 122/150\n",
      "206/206 [==============================] - 1s 6ms/step - loss: 0.0231\n",
      "Epoch 123/150\n",
      "206/206 [==============================] - 1s 6ms/step - loss: 0.0213\n",
      "Epoch 124/150\n",
      "206/206 [==============================] - 1s 6ms/step - loss: 0.0212\n",
      "Epoch 125/150\n",
      "206/206 [==============================] - 1s 6ms/step - loss: 0.0222\n",
      "Epoch 126/150\n",
      "206/206 [==============================] - 1s 6ms/step - loss: 0.0205\n",
      "Epoch 127/150\n",
      "206/206 [==============================] - 1s 6ms/step - loss: 0.0210\n",
      "Epoch 128/150\n",
      "206/206 [==============================] - 1s 6ms/step - loss: 0.0212A: 0s - loss: 0.02\n",
      "Epoch 129/150\n",
      "206/206 [==============================] - 1s 6ms/step - loss: 0.0208\n",
      "Epoch 130/150\n",
      "206/206 [==============================] - 1s 6ms/step - loss: 0.0212\n",
      "Epoch 131/150\n",
      "206/206 [==============================] - 1s 6ms/step - loss: 0.0224\n",
      "Epoch 132/150\n",
      "206/206 [==============================] - 1s 6ms/step - loss: 0.0224\n",
      "Epoch 133/150\n",
      "206/206 [==============================] - 1s 6ms/step - loss: 0.0215\n",
      "Epoch 134/150\n",
      "206/206 [==============================] - 1s 6ms/step - loss: 0.0213\n",
      "Epoch 135/150\n",
      "206/206 [==============================] - 1s 6ms/step - loss: 0.0234\n",
      "Epoch 136/150\n",
      "206/206 [==============================] - 1s 6ms/step - loss: 0.0206\n",
      "Epoch 137/150\n",
      "206/206 [==============================] - 1s 6ms/step - loss: 0.0209\n",
      "Epoch 138/150\n",
      "206/206 [==============================] - 1s 6ms/step - loss: 0.0235\n",
      "Epoch 139/150\n",
      "206/206 [==============================] - 1s 6ms/step - loss: 0.0216\n",
      "Epoch 140/150\n",
      "206/206 [==============================] - 1s 6ms/step - loss: 0.0208\n",
      "Epoch 141/150\n",
      "206/206 [==============================] - 1s 6ms/step - loss: 0.0206\n",
      "Epoch 142/150\n",
      "206/206 [==============================] - 1s 6ms/step - loss: 0.0220\n",
      "Epoch 143/150\n",
      "206/206 [==============================] - 1s 6ms/step - loss: 0.0260A: 0s - loss: 0.02\n",
      "Epoch 144/150\n",
      "206/206 [==============================] - 1s 6ms/step - loss: 0.0238\n",
      "Epoch 145/150\n",
      "206/206 [==============================] - 1s 6ms/step - loss: 0.0213\n",
      "Epoch 146/150\n",
      "206/206 [==============================] - 1s 6ms/step - loss: 0.0212\n",
      "Epoch 147/150\n",
      "206/206 [==============================] - 1s 6ms/step - loss: 0.0232\n",
      "Epoch 148/150\n",
      "206/206 [==============================] - 1s 6ms/step - loss: 0.0224\n",
      "Epoch 149/150\n",
      "206/206 [==============================] - 1s 6ms/step - loss: 0.0213\n",
      "Epoch 150/150\n",
      "206/206 [==============================] - 1s 6ms/step - loss: 0.0215\n"
     ]
    },
    {
     "data": {
      "text/plain": [
       "<keras.callbacks.History at 0x1c6ba588>"
      ]
     },
     "execution_count": 68,
     "metadata": {},
     "output_type": "execute_result"
    }
   ],
   "source": [
    "regressor = Sequential()\n",
    "\n",
    "regressor.add(LSTM(units = 50, return_sequences = True, input_shape = (X_train.shape[1], len(df.columns))))\n",
    "regressor.add(Dropout(0.2))\n",
    "\n",
    "regressor.add(LSTM(units = 50, return_sequences = True))\n",
    "regressor.add(Dropout(0.2))\n",
    "\n",
    "regressor.add(LSTM(units = 50, return_sequences = True))\n",
    "regressor.add(Dropout(0.2))\n",
    "\n",
    "regressor.add(LSTM(units = 50))\n",
    "regressor.add(Dropout(0.2))\n",
    "\n",
    "regressor.add(Dense(units = 1))\n",
    "\n",
    "regressor.compile(optimizer = 'adam', loss = 'mean_squared_error')\n",
    "\n",
    "regressor.fit(X_train, y_train, epochs = 150, batch_size = 32)"
   ]
  },
  {
   "cell_type": "code",
   "execution_count": 69,
   "metadata": {},
   "outputs": [],
   "source": [
    "X_test=[]\n",
    "for i in range(15, len(test)):\n",
    "        X_test.append(test[i-15:i, ])\n",
    "X_test = np.array(X_test)\n",
    "X_test = np.reshape(X_test, (X_test.shape[0], X_test.shape[1], len(df.columns)))"
   ]
  },
  {
   "cell_type": "code",
   "execution_count": null,
   "metadata": {},
   "outputs": [],
   "source": []
  },
  {
   "cell_type": "code",
   "execution_count": 70,
   "metadata": {},
   "outputs": [],
   "source": [
    "predicted = regressor.predict(X_test)\n",
    "predicted = crc.inverse_transform(predicted)\n",
    "\n",
    "actual = sc.inverse_transform(test)"
   ]
  },
  {
   "cell_type": "code",
   "execution_count": 71,
   "metadata": {},
   "outputs": [
    {
     "data": {
      "image/png": "[encoded data removed]",
      "text/plain": [
       "<Figure size 432x288 with 1 Axes>"
      ]
     },
     "metadata": {
      "needs_background": "light"
     },
     "output_type": "display_data"
    }
   ],
   "source": [
    "x1=actual[:,0]\n",
    "#x2=predicted[:,0]\n",
    "plt.plot(x1, color = 'black')\n",
    "plt.plot(predicted, color = 'green', label = 'Predicted')\n",
    "plt.legend()\n",
    "plt.show()"
   ]
  },
  {
   "cell_type": "code",
   "execution_count": null,
   "metadata": {},
   "outputs": [],
   "source": []
  },
  {
   "cell_type": "code",
   "execution_count": null,
   "metadata": {},
   "outputs": [],
   "source": []
  }
 ],
 "metadata": {
  "kernelspec": {
   "display_name": "Python 3",
   "language": "python",
   "name": "python3"
  },
  "language_info": {
   "codemirror_mode": {
    "name": "ipython",
    "version": 3
   },
   "file_extension": ".py",
   "mimetype": "text/x-python",
   "name": "python",
   "nbconvert_exporter": "python",
   "pygments_lexer": "ipython3",
   "version": "3.7.3"
  }
 },
 "nbformat": 4,
 "nbformat_minor": 2
}
