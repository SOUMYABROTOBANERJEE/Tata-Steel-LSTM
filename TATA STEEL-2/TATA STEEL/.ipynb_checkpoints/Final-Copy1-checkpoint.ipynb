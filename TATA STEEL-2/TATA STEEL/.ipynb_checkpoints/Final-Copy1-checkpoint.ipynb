{
 "cells": [
  {
   "cell_type": "code",
   "execution_count": 9,
   "metadata": {},
   "outputs": [],
   "source": [
    "import pandas as pd\n",
    "import matplotlib.mlab as mlab\n",
    "import matplotlib.pyplot as plt\n",
    "import numpy as np"
   ]
  },
  {
   "cell_type": "code",
   "execution_count": 10,
   "metadata": {},
   "outputs": [],
   "source": [
    "import warnings\n",
    "warnings.filterwarnings('ignore')"
   ]
  },
  {
   "cell_type": "code",
   "execution_count": 11,
   "metadata": {},
   "outputs": [],
   "source": [
    "################################################# MULTI CLASS #####################################################"
   ]
  },
  {
   "cell_type": "code",
   "execution_count": 12,
   "metadata": {},
   "outputs": [],
   "source": [
    "filename='MyData.xlsx'"
   ]
  },
  {
   "cell_type": "code",
   "execution_count": 13,
   "metadata": {},
   "outputs": [],
   "source": [
    "path=\"C:\\\\Users\\\\Laptop\\\\Desktop\\\\TATA STEEL\\\\TATA STEEL-2\\\\TATA STEEL\""
   ]
  },
  {
   "cell_type": "code",
   "execution_count": 14,
   "metadata": {},
   "outputs": [],
   "source": [
    "df1=pd.read_csv('MyData.csv')"
   ]
  },
  {
   "cell_type": "code",
   "execution_count": 15,
   "metadata": {},
   "outputs": [],
   "source": [
    "df=df1"
   ]
  },
  {
   "cell_type": "code",
   "execution_count": 16,
   "metadata": {},
   "outputs": [],
   "source": [
    "df2=df1[['Net.Due.Dt','Clearing','Status']]"
   ]
  },
  {
   "cell_type": "code",
   "execution_count": 17,
   "metadata": {},
   "outputs": [
    {
     "data": {
      "text/html": [
       "<div>\n",
       "<style scoped>\n",
       "    .dataframe tbody tr th:only-of-type {\n",
       "        vertical-align: middle;\n",
       "    }\n",
       "\n",
       "    .dataframe tbody tr th {\n",
       "        vertical-align: top;\n",
       "    }\n",
       "\n",
       "    .dataframe thead th {\n",
       "        text-align: right;\n",
       "    }\n",
       "</style>\n",
       "<table border=\"1\" class=\"dataframe\">\n",
       "  <thead>\n",
       "    <tr style=\"text-align: right;\">\n",
       "      <th></th>\n",
       "      <th>Net.Due.Dt</th>\n",
       "      <th>Clearing</th>\n",
       "      <th>Status</th>\n",
       "    </tr>\n",
       "  </thead>\n",
       "  <tbody>\n",
       "    <tr>\n",
       "      <th>0</th>\n",
       "      <td>05-01-19</td>\n",
       "      <td>31-12-18</td>\n",
       "      <td>Not OD</td>\n",
       "    </tr>\n",
       "    <tr>\n",
       "      <th>1</th>\n",
       "      <td>10-11-18</td>\n",
       "      <td>15-11-18</td>\n",
       "      <td>Overdue</td>\n",
       "    </tr>\n",
       "    <tr>\n",
       "      <th>2</th>\n",
       "      <td>15-11-18</td>\n",
       "      <td>15-11-18</td>\n",
       "      <td>Not OD</td>\n",
       "    </tr>\n",
       "    <tr>\n",
       "      <th>3</th>\n",
       "      <td>09-01-19</td>\n",
       "      <td>14-01-19</td>\n",
       "      <td>Overdue</td>\n",
       "    </tr>\n",
       "    <tr>\n",
       "      <th>4</th>\n",
       "      <td>13-11-18</td>\n",
       "      <td>15-11-18</td>\n",
       "      <td>Overdue</td>\n",
       "    </tr>\n",
       "  </tbody>\n",
       "</table>\n",
       "</div>"
      ],
      "text/plain": [
       "  Net.Due.Dt  Clearing   Status\n",
       "0   05-01-19  31-12-18   Not OD\n",
       "1   10-11-18  15-11-18  Overdue\n",
       "2   15-11-18  15-11-18   Not OD\n",
       "3   09-01-19  14-01-19  Overdue\n",
       "4   13-11-18  15-11-18  Overdue"
      ]
     },
     "execution_count": 17,
     "metadata": {},
     "output_type": "execute_result"
    }
   ],
   "source": [
    "df2.head()"
   ]
  },
  {
   "cell_type": "code",
   "execution_count": 18,
   "metadata": {},
   "outputs": [],
   "source": [
    "df2.dropna(inplace=True)\n"
   ]
  },
  {
   "cell_type": "code",
   "execution_count": 19,
   "metadata": {},
   "outputs": [],
   "source": [
    "df2['Range of Delay']=pd.to_datetime(df2['Clearing'])-pd.to_datetime(df2['Net.Due.Dt'])"
   ]
  },
  {
   "cell_type": "code",
   "execution_count": 20,
   "metadata": {},
   "outputs": [
    {
     "data": {
      "text/plain": [
       "0   -121 days\n",
       "1     35 days\n",
       "2      0 days\n",
       "3   -230 days\n",
       "4      2 days\n",
       "Name: Range of Delay, dtype: timedelta64[ns]"
      ]
     },
     "execution_count": 20,
     "metadata": {},
     "output_type": "execute_result"
    }
   ],
   "source": [
    "df2['Range of Delay'].head()"
   ]
  },
  {
   "cell_type": "code",
   "execution_count": 21,
   "metadata": {},
   "outputs": [],
   "source": [
    "\n",
    "df2['Range of Delay']=df2['Range of Delay'].dt.days\n",
    "#df['Difference'] = pd.to_numeric(df['Difference']) \n",
    "df2['Range of Delay']=pd.to_numeric(df2['Range of Delay'])\n",
    "#df2['Range of Delay']"
   ]
  },
  {
   "cell_type": "code",
   "execution_count": 22,
   "metadata": {},
   "outputs": [],
   "source": [
    "df2 = df2.reset_index()\n",
    "df2.drop(columns='index',inplace=True)"
   ]
  },
  {
   "cell_type": "code",
   "execution_count": null,
   "metadata": {},
   "outputs": [],
   "source": []
  },
  {
   "cell_type": "code",
   "execution_count": null,
   "metadata": {},
   "outputs": [],
   "source": []
  },
  {
   "cell_type": "code",
   "execution_count": null,
   "metadata": {},
   "outputs": [],
   "source": []
  },
  {
   "cell_type": "code",
   "execution_count": 23,
   "metadata": {},
   "outputs": [],
   "source": [
    "df2['Status'] = np.where(df2['Range of Delay'] > 7, 2, (np.where(df2['Range of Delay'] > 0, 1,0)))"
   ]
  },
  {
   "cell_type": "code",
   "execution_count": 24,
   "metadata": {},
   "outputs": [
    {
     "data": {
      "text/plain": [
       "0    89864\n",
       "1    12819\n",
       "2    11029\n",
       "Name: Status, dtype: int64"
      ]
     },
     "execution_count": 24,
     "metadata": {},
     "output_type": "execute_result"
    }
   ],
   "source": [
    "df2['Status'].value_counts()"
   ]
  },
  {
   "cell_type": "code",
   "execution_count": 25,
   "metadata": {},
   "outputs": [],
   "source": [
    "df1['Status']=df2['Status']"
   ]
  },
  {
   "cell_type": "code",
   "execution_count": 26,
   "metadata": {},
   "outputs": [
    {
     "data": {
      "text/html": [
       "<div>\n",
       "<style scoped>\n",
       "    .dataframe tbody tr th:only-of-type {\n",
       "        vertical-align: middle;\n",
       "    }\n",
       "\n",
       "    .dataframe tbody tr th {\n",
       "        vertical-align: top;\n",
       "    }\n",
       "\n",
       "    .dataframe thead th {\n",
       "        text-align: right;\n",
       "    }\n",
       "</style>\n",
       "<table border=\"1\" class=\"dataframe\">\n",
       "  <thead>\n",
       "    <tr style=\"text-align: right;\">\n",
       "      <th></th>\n",
       "      <th>BusA</th>\n",
       "      <th>CCAr</th>\n",
       "      <th>Reference</th>\n",
       "      <th>Account</th>\n",
       "      <th>Customer.Name</th>\n",
       "      <th>Zone</th>\n",
       "      <th>Bran</th>\n",
       "      <th>Ty</th>\n",
       "      <th>Status</th>\n",
       "      <th>Local.Crcy.Amt</th>\n",
       "      <th>...</th>\n",
       "      <th>Doc.Chq.dt</th>\n",
       "      <th>Month</th>\n",
       "      <th>Pstng.Date</th>\n",
       "      <th>Net.Due.Dt</th>\n",
       "      <th>G.L</th>\n",
       "      <th>Year</th>\n",
       "      <th>Clrng.doc.</th>\n",
       "      <th>Clearing</th>\n",
       "      <th>Pending_Amy</th>\n",
       "      <th>pending_cnt</th>\n",
       "    </tr>\n",
       "  </thead>\n",
       "  <tbody>\n",
       "    <tr>\n",
       "      <th>0</th>\n",
       "      <td>1000</td>\n",
       "      <td>BPR</td>\n",
       "      <td>4.132000e+09</td>\n",
       "      <td>929488</td>\n",
       "      <td>KAUSALYA AGENCIES</td>\n",
       "      <td>South</td>\n",
       "      <td>SBAD</td>\n",
       "      <td>RV</td>\n",
       "      <td>0</td>\n",
       "      <td>0.10</td>\n",
       "      <td>...</td>\n",
       "      <td>31.12.2018</td>\n",
       "      <td>Dec</td>\n",
       "      <td>31-12-18</td>\n",
       "      <td>05-01-19</td>\n",
       "      <td>1221001</td>\n",
       "      <td>2019</td>\n",
       "      <td>94177601</td>\n",
       "      <td>31-12-18</td>\n",
       "      <td>0.00</td>\n",
       "      <td>0</td>\n",
       "    </tr>\n",
       "    <tr>\n",
       "      <th>1</th>\n",
       "      <td>9600</td>\n",
       "      <td>BPR</td>\n",
       "      <td>1.115502e+09</td>\n",
       "      <td>928860</td>\n",
       "      <td>TATA STEEL PROCESSING</td>\n",
       "      <td>North</td>\n",
       "      <td>GBAD</td>\n",
       "      <td>RV</td>\n",
       "      <td>2</td>\n",
       "      <td>0.04</td>\n",
       "      <td>...</td>\n",
       "      <td>31.10.2018</td>\n",
       "      <td>Oct</td>\n",
       "      <td>31-10-18</td>\n",
       "      <td>10-11-18</td>\n",
       "      <td>1221001</td>\n",
       "      <td>2019</td>\n",
       "      <td>93892774</td>\n",
       "      <td>15-11-18</td>\n",
       "      <td>0.60</td>\n",
       "      <td>4</td>\n",
       "    </tr>\n",
       "    <tr>\n",
       "      <th>2</th>\n",
       "      <td>9600</td>\n",
       "      <td>BPR</td>\n",
       "      <td>1.115502e+09</td>\n",
       "      <td>928860</td>\n",
       "      <td>TATA STEEL PROCESSING</td>\n",
       "      <td>North</td>\n",
       "      <td>GBAD</td>\n",
       "      <td>RV</td>\n",
       "      <td>0</td>\n",
       "      <td>0.12</td>\n",
       "      <td>...</td>\n",
       "      <td>05.11.2018</td>\n",
       "      <td>Nov</td>\n",
       "      <td>05-11-18</td>\n",
       "      <td>15-11-18</td>\n",
       "      <td>1221001</td>\n",
       "      <td>2019</td>\n",
       "      <td>93892774</td>\n",
       "      <td>15-11-18</td>\n",
       "      <td>1.42</td>\n",
       "      <td>10</td>\n",
       "    </tr>\n",
       "    <tr>\n",
       "      <th>3</th>\n",
       "      <td>1000</td>\n",
       "      <td>BPR</td>\n",
       "      <td>2.412166e+09</td>\n",
       "      <td>928860</td>\n",
       "      <td>TATA STEEL PROCESSING</td>\n",
       "      <td>North</td>\n",
       "      <td>GBAD</td>\n",
       "      <td>RV</td>\n",
       "      <td>0</td>\n",
       "      <td>0.17</td>\n",
       "      <td>...</td>\n",
       "      <td>30.12.2018</td>\n",
       "      <td>Dec</td>\n",
       "      <td>30-12-18</td>\n",
       "      <td>09-01-19</td>\n",
       "      <td>1221001</td>\n",
       "      <td>2019</td>\n",
       "      <td>94398427</td>\n",
       "      <td>14-01-19</td>\n",
       "      <td>0.00</td>\n",
       "      <td>0</td>\n",
       "    </tr>\n",
       "    <tr>\n",
       "      <th>4</th>\n",
       "      <td>2500</td>\n",
       "      <td>BPR</td>\n",
       "      <td>2.410320e+09</td>\n",
       "      <td>928860</td>\n",
       "      <td>TATA STEEL PROCESSING</td>\n",
       "      <td>North</td>\n",
       "      <td>GBAD</td>\n",
       "      <td>RV</td>\n",
       "      <td>1</td>\n",
       "      <td>0.16</td>\n",
       "      <td>...</td>\n",
       "      <td>03.11.2018</td>\n",
       "      <td>Nov</td>\n",
       "      <td>03-11-18</td>\n",
       "      <td>13-11-18</td>\n",
       "      <td>1221001</td>\n",
       "      <td>2019</td>\n",
       "      <td>93892774</td>\n",
       "      <td>15-11-18</td>\n",
       "      <td>1.26</td>\n",
       "      <td>9</td>\n",
       "    </tr>\n",
       "  </tbody>\n",
       "</table>\n",
       "<p>5 rows × 24 columns</p>\n",
       "</div>"
      ],
      "text/plain": [
       "   BusA CCAr     Reference  Account          Customer.Name   Zone  Bran  Ty  \\\n",
       "0  1000  BPR  4.132000e+09   929488      KAUSALYA AGENCIES  South  SBAD  RV   \n",
       "1  9600  BPR  1.115502e+09   928860  TATA STEEL PROCESSING  North  GBAD  RV   \n",
       "2  9600  BPR  1.115502e+09   928860  TATA STEEL PROCESSING  North  GBAD  RV   \n",
       "3  1000  BPR  2.412166e+09   928860  TATA STEEL PROCESSING  North  GBAD  RV   \n",
       "4  2500  BPR  2.410320e+09   928860  TATA STEEL PROCESSING  North  GBAD  RV   \n",
       "\n",
       "   Status  Local.Crcy.Amt  ...  Doc.Chq.dt Month Pstng.Date  Net.Due.Dt  \\\n",
       "0       0            0.10  ...  31.12.2018   Dec   31-12-18    05-01-19   \n",
       "1       2            0.04  ...  31.10.2018   Oct   31-10-18    10-11-18   \n",
       "2       0            0.12  ...  05.11.2018   Nov   05-11-18    15-11-18   \n",
       "3       0            0.17  ...  30.12.2018   Dec   30-12-18    09-01-19   \n",
       "4       1            0.16  ...  03.11.2018   Nov   03-11-18    13-11-18   \n",
       "\n",
       "       G.L  Year Clrng.doc.  Clearing  Pending_Amy  pending_cnt  \n",
       "0  1221001  2019   94177601  31-12-18         0.00            0  \n",
       "1  1221001  2019   93892774  15-11-18         0.60            4  \n",
       "2  1221001  2019   93892774  15-11-18         1.42           10  \n",
       "3  1221001  2019   94398427  14-01-19         0.00            0  \n",
       "4  1221001  2019   93892774  15-11-18         1.26            9  \n",
       "\n",
       "[5 rows x 24 columns]"
      ]
     },
     "execution_count": 26,
     "metadata": {},
     "output_type": "execute_result"
    }
   ],
   "source": [
    "df1.head(5)"
   ]
  },
  {
   "cell_type": "code",
   "execution_count": 27,
   "metadata": {},
   "outputs": [
    {
     "data": {
      "text/html": [
       "<div>\n",
       "<style scoped>\n",
       "    .dataframe tbody tr th:only-of-type {\n",
       "        vertical-align: middle;\n",
       "    }\n",
       "\n",
       "    .dataframe tbody tr th {\n",
       "        vertical-align: top;\n",
       "    }\n",
       "\n",
       "    .dataframe thead th {\n",
       "        text-align: right;\n",
       "    }\n",
       "</style>\n",
       "<table border=\"1\" class=\"dataframe\">\n",
       "  <thead>\n",
       "    <tr style=\"text-align: right;\">\n",
       "      <th></th>\n",
       "      <th>BusA</th>\n",
       "      <th>CCAr</th>\n",
       "      <th>Reference</th>\n",
       "      <th>Account</th>\n",
       "      <th>Zone</th>\n",
       "      <th>Bran</th>\n",
       "      <th>Status</th>\n",
       "      <th>Local.Crcy.Amt</th>\n",
       "      <th>Arr..Clearing...Net.Due.Date.</th>\n",
       "      <th>PayT</th>\n",
       "      <th>Pstng.Date</th>\n",
       "      <th>Net.Due.Dt</th>\n",
       "      <th>G.L</th>\n",
       "      <th>Clearing</th>\n",
       "      <th>Pending_Amy</th>\n",
       "      <th>pending_cnt</th>\n",
       "    </tr>\n",
       "  </thead>\n",
       "  <tbody>\n",
       "    <tr>\n",
       "      <th>0</th>\n",
       "      <td>0</td>\n",
       "      <td>0</td>\n",
       "      <td>4.132000e+09</td>\n",
       "      <td>929488</td>\n",
       "      <td>2</td>\n",
       "      <td>21</td>\n",
       "      <td>0</td>\n",
       "      <td>0.10</td>\n",
       "      <td>-5</td>\n",
       "      <td>27</td>\n",
       "      <td>31-12-18</td>\n",
       "      <td>05-01-19</td>\n",
       "      <td>1221001</td>\n",
       "      <td>31-12-18</td>\n",
       "      <td>0.00</td>\n",
       "      <td>0</td>\n",
       "    </tr>\n",
       "    <tr>\n",
       "      <th>1</th>\n",
       "      <td>6</td>\n",
       "      <td>0</td>\n",
       "      <td>1.115502e+09</td>\n",
       "      <td>928860</td>\n",
       "      <td>1</td>\n",
       "      <td>9</td>\n",
       "      <td>2</td>\n",
       "      <td>0.04</td>\n",
       "      <td>5</td>\n",
       "      <td>31</td>\n",
       "      <td>31-10-18</td>\n",
       "      <td>10-11-18</td>\n",
       "      <td>1221001</td>\n",
       "      <td>15-11-18</td>\n",
       "      <td>0.60</td>\n",
       "      <td>4</td>\n",
       "    </tr>\n",
       "    <tr>\n",
       "      <th>2</th>\n",
       "      <td>6</td>\n",
       "      <td>0</td>\n",
       "      <td>1.115502e+09</td>\n",
       "      <td>928860</td>\n",
       "      <td>1</td>\n",
       "      <td>9</td>\n",
       "      <td>0</td>\n",
       "      <td>0.12</td>\n",
       "      <td>0</td>\n",
       "      <td>31</td>\n",
       "      <td>05-11-18</td>\n",
       "      <td>15-11-18</td>\n",
       "      <td>1221001</td>\n",
       "      <td>15-11-18</td>\n",
       "      <td>1.42</td>\n",
       "      <td>10</td>\n",
       "    </tr>\n",
       "    <tr>\n",
       "      <th>3</th>\n",
       "      <td>0</td>\n",
       "      <td>0</td>\n",
       "      <td>2.412166e+09</td>\n",
       "      <td>928860</td>\n",
       "      <td>1</td>\n",
       "      <td>9</td>\n",
       "      <td>0</td>\n",
       "      <td>0.17</td>\n",
       "      <td>5</td>\n",
       "      <td>31</td>\n",
       "      <td>30-12-18</td>\n",
       "      <td>09-01-19</td>\n",
       "      <td>1221001</td>\n",
       "      <td>14-01-19</td>\n",
       "      <td>0.00</td>\n",
       "      <td>0</td>\n",
       "    </tr>\n",
       "    <tr>\n",
       "      <th>4</th>\n",
       "      <td>2</td>\n",
       "      <td>0</td>\n",
       "      <td>2.410320e+09</td>\n",
       "      <td>928860</td>\n",
       "      <td>1</td>\n",
       "      <td>9</td>\n",
       "      <td>1</td>\n",
       "      <td>0.16</td>\n",
       "      <td>2</td>\n",
       "      <td>31</td>\n",
       "      <td>03-11-18</td>\n",
       "      <td>13-11-18</td>\n",
       "      <td>1221001</td>\n",
       "      <td>15-11-18</td>\n",
       "      <td>1.26</td>\n",
       "      <td>9</td>\n",
       "    </tr>\n",
       "  </tbody>\n",
       "</table>\n",
       "</div>"
      ],
      "text/plain": [
       "   BusA  CCAr     Reference  Account  Zone  Bran  Status  Local.Crcy.Amt  \\\n",
       "0     0     0  4.132000e+09   929488     2    21       0            0.10   \n",
       "1     6     0  1.115502e+09   928860     1     9       2            0.04   \n",
       "2     6     0  1.115502e+09   928860     1     9       0            0.12   \n",
       "3     0     0  2.412166e+09   928860     1     9       0            0.17   \n",
       "4     2     0  2.410320e+09   928860     1     9       1            0.16   \n",
       "\n",
       "   Arr..Clearing...Net.Due.Date.  PayT Pstng.Date Net.Due.Dt      G.L  \\\n",
       "0                             -5    27   31-12-18   05-01-19  1221001   \n",
       "1                              5    31   31-10-18   10-11-18  1221001   \n",
       "2                              0    31   05-11-18   15-11-18  1221001   \n",
       "3                              5    31   30-12-18   09-01-19  1221001   \n",
       "4                              2    31   03-11-18   13-11-18  1221001   \n",
       "\n",
       "   Clearing  Pending_Amy  pending_cnt  \n",
       "0  31-12-18         0.00            0  \n",
       "1  15-11-18         0.60            4  \n",
       "2  15-11-18         1.42           10  \n",
       "3  14-01-19         0.00            0  \n",
       "4  15-11-18         1.26            9  "
      ]
     },
     "execution_count": 27,
     "metadata": {},
     "output_type": "execute_result"
    }
   ],
   "source": [
    "df1.dropna(inplace=True)\n",
    "df1['Status']=df1['Status'].astype('category').cat.codes\n",
    "df1['BusA']=df1['BusA'].astype('category').cat.codes\n",
    "df1['CCAr']=df1['CCAr'].astype('category').cat.codes\n",
    "#df['Account']=df['Account'].astype('category').cat.codes\n",
    "#df1.drop(columns='Reference',inplace=True)\n",
    "df1.drop(columns='Customer.Name',inplace=True)\n",
    "df1.drop(columns=['DocumentNo','Month','Year','Clrng.doc.'],inplace=True)\n",
    "df1['Zone']=df1['Zone'].astype('category').cat.codes\n",
    "df1['Bran']=df1['Bran'].astype('category').cat.codes\n",
    "df1['PayT'] = df1['PayT'].astype('category').cat.codes\n",
    "df1.drop(columns='Doc.Chq.dt',inplace=True)\n",
    "df1.drop(columns='Ty',inplace=True)\n",
    "df1.drop(columns='Sale.Type',inplace=True)\n",
    "df1.head(5)\n",
    "    "
   ]
  },
  {
   "cell_type": "code",
   "execution_count": 28,
   "metadata": {},
   "outputs": [],
   "source": [
    "df1['Pstng.Date']=pd.to_datetime(df1['Pstng.Date']).dt.strftime(\"%Y%m%d\").astype(str)\n",
    "df1['Net.Due.Dt']=pd.to_datetime(df1['Net.Due.Dt']).dt.strftime(\"%Y%m%d\").astype(str)\n",
    "df1['Clearing']=pd.to_datetime(df1['Clearing']).dt.strftime(\"%Y%m%d\").astype(str)"
   ]
  },
  {
   "cell_type": "code",
   "execution_count": 29,
   "metadata": {},
   "outputs": [],
   "source": [
    "df1.drop(columns=['Net.Due.Dt','Clearing'],inplace=True)"
   ]
  },
  {
   "cell_type": "code",
   "execution_count": 30,
   "metadata": {},
   "outputs": [],
   "source": [
    "df1 = df1.reset_index()\n",
    "df1.drop(columns='index',inplace=True)"
   ]
  },
  {
   "cell_type": "code",
   "execution_count": 31,
   "metadata": {},
   "outputs": [],
   "source": [
    "df1.drop(columns='Arr..Clearing...Net.Due.Date.',inplace=True)"
   ]
  },
  {
   "cell_type": "code",
   "execution_count": null,
   "metadata": {},
   "outputs": [],
   "source": []
  },
  {
   "cell_type": "code",
   "execution_count": 32,
   "metadata": {},
   "outputs": [],
   "source": [
    "y=np.array(df1['Status'])\n",
    "df1.drop(columns='Status',inplace=True)"
   ]
  },
  {
   "cell_type": "code",
   "execution_count": 187,
   "metadata": {},
   "outputs": [],
   "source": []
  },
  {
   "cell_type": "code",
   "execution_count": 184,
   "metadata": {},
   "outputs": [],
   "source": [
    "##############  normalizing data ##########################"
   ]
  },
  {
   "cell_type": "code",
   "execution_count": 33,
   "metadata": {},
   "outputs": [
    {
     "data": {
      "text/html": [
       "<div>\n",
       "<style scoped>\n",
       "    .dataframe tbody tr th:only-of-type {\n",
       "        vertical-align: middle;\n",
       "    }\n",
       "\n",
       "    .dataframe tbody tr th {\n",
       "        vertical-align: top;\n",
       "    }\n",
       "\n",
       "    .dataframe thead th {\n",
       "        text-align: right;\n",
       "    }\n",
       "</style>\n",
       "<table border=\"1\" class=\"dataframe\">\n",
       "  <thead>\n",
       "    <tr style=\"text-align: right;\">\n",
       "      <th></th>\n",
       "      <th>BusA</th>\n",
       "      <th>CCAr</th>\n",
       "      <th>Reference</th>\n",
       "      <th>Account</th>\n",
       "      <th>Zone</th>\n",
       "      <th>Bran</th>\n",
       "      <th>Local.Crcy.Amt</th>\n",
       "      <th>PayT</th>\n",
       "      <th>Pstng.Date</th>\n",
       "      <th>G.L</th>\n",
       "      <th>Pending_Amy</th>\n",
       "      <th>pending_cnt</th>\n",
       "    </tr>\n",
       "  </thead>\n",
       "  <tbody>\n",
       "    <tr>\n",
       "      <th>0</th>\n",
       "      <td>0.000000</td>\n",
       "      <td>0.0</td>\n",
       "      <td>0.927817</td>\n",
       "      <td>1.000000</td>\n",
       "      <td>0.666667</td>\n",
       "      <td>0.954545</td>\n",
       "      <td>0.196078</td>\n",
       "      <td>0.750000</td>\n",
       "      <td>1.000000</td>\n",
       "      <td>0.0</td>\n",
       "      <td>0.000000</td>\n",
       "      <td>0.000000</td>\n",
       "    </tr>\n",
       "    <tr>\n",
       "      <th>1</th>\n",
       "      <td>1.000000</td>\n",
       "      <td>0.0</td>\n",
       "      <td>0.207218</td>\n",
       "      <td>0.999243</td>\n",
       "      <td>0.333333</td>\n",
       "      <td>0.409091</td>\n",
       "      <td>0.078431</td>\n",
       "      <td>0.861111</td>\n",
       "      <td>0.822538</td>\n",
       "      <td>0.0</td>\n",
       "      <td>0.020263</td>\n",
       "      <td>0.014815</td>\n",
       "    </tr>\n",
       "    <tr>\n",
       "      <th>2</th>\n",
       "      <td>1.000000</td>\n",
       "      <td>0.0</td>\n",
       "      <td>0.207218</td>\n",
       "      <td>0.999243</td>\n",
       "      <td>0.333333</td>\n",
       "      <td>0.409091</td>\n",
       "      <td>0.235294</td>\n",
       "      <td>0.861111</td>\n",
       "      <td>0.361136</td>\n",
       "      <td>0.0</td>\n",
       "      <td>0.047957</td>\n",
       "      <td>0.037037</td>\n",
       "    </tr>\n",
       "    <tr>\n",
       "      <th>3</th>\n",
       "      <td>0.000000</td>\n",
       "      <td>0.0</td>\n",
       "      <td>0.516973</td>\n",
       "      <td>0.999243</td>\n",
       "      <td>0.333333</td>\n",
       "      <td>0.409091</td>\n",
       "      <td>0.333333</td>\n",
       "      <td>0.861111</td>\n",
       "      <td>0.999113</td>\n",
       "      <td>0.0</td>\n",
       "      <td>0.000000</td>\n",
       "      <td>0.000000</td>\n",
       "    </tr>\n",
       "    <tr>\n",
       "      <th>4</th>\n",
       "      <td>0.333333</td>\n",
       "      <td>0.0</td>\n",
       "      <td>0.516532</td>\n",
       "      <td>0.999243</td>\n",
       "      <td>0.333333</td>\n",
       "      <td>0.409091</td>\n",
       "      <td>0.313725</td>\n",
       "      <td>0.861111</td>\n",
       "      <td>0.183673</td>\n",
       "      <td>0.0</td>\n",
       "      <td>0.042553</td>\n",
       "      <td>0.033333</td>\n",
       "    </tr>\n",
       "  </tbody>\n",
       "</table>\n",
       "</div>"
      ],
      "text/plain": [
       "       BusA  CCAr  Reference   Account      Zone      Bran  Local.Crcy.Amt  \\\n",
       "0  0.000000   0.0   0.927817  1.000000  0.666667  0.954545        0.196078   \n",
       "1  1.000000   0.0   0.207218  0.999243  0.333333  0.409091        0.078431   \n",
       "2  1.000000   0.0   0.207218  0.999243  0.333333  0.409091        0.235294   \n",
       "3  0.000000   0.0   0.516973  0.999243  0.333333  0.409091        0.333333   \n",
       "4  0.333333   0.0   0.516532  0.999243  0.333333  0.409091        0.313725   \n",
       "\n",
       "       PayT  Pstng.Date  G.L  Pending_Amy  pending_cnt  \n",
       "0  0.750000    1.000000  0.0     0.000000     0.000000  \n",
       "1  0.861111    0.822538  0.0     0.020263     0.014815  \n",
       "2  0.861111    0.361136  0.0     0.047957     0.037037  \n",
       "3  0.861111    0.999113  0.0     0.000000     0.000000  \n",
       "4  0.861111    0.183673  0.0     0.042553     0.033333  "
      ]
     },
     "execution_count": 33,
     "metadata": {},
     "output_type": "execute_result"
    }
   ],
   "source": [
    "from sklearn import preprocessing\n",
    "y1=df1.columns\n",
    "x = df1.values #returns a numpy array\n",
    "min_max_scaler = preprocessing.MinMaxScaler()\n",
    "x_scaled = min_max_scaler.fit_transform(x)\n",
    "df1 = pd.DataFrame(x_scaled,columns=df1.columns)\n",
    "df1.head(5)"
   ]
  },
  {
   "cell_type": "code",
   "execution_count": 34,
   "metadata": {},
   "outputs": [],
   "source": [
    "X=df1"
   ]
  },
  {
   "cell_type": "code",
   "execution_count": 35,
   "metadata": {},
   "outputs": [
    {
     "data": {
      "text/plain": [
       "array([89864, 12819, 11029], dtype=int64)"
      ]
     },
     "execution_count": 35,
     "metadata": {},
     "output_type": "execute_result"
    }
   ],
   "source": [
    "k,count=np.unique(y,return_counts=True)\n",
    "count"
   ]
  },
  {
   "cell_type": "code",
   "execution_count": 36,
   "metadata": {},
   "outputs": [],
   "source": [
    "############# SPLITTING DATA ###################"
   ]
  },
  {
   "cell_type": "code",
   "execution_count": 37,
   "metadata": {},
   "outputs": [],
   "source": [
    "from sklearn.model_selection import train_test_split\n",
    "xtrain, xtest, ytrain, ytest = train_test_split(X, y, test_size = 0.3)"
   ]
  },
  {
   "cell_type": "code",
   "execution_count": 39,
   "metadata": {},
   "outputs": [],
   "source": [
    "from sklearn.preprocessing import OneHotEncoder\n",
    "enc = OneHotEncoder(handle_unknown='ignore')"
   ]
  },
  {
   "cell_type": "code",
   "execution_count": 41,
   "metadata": {},
   "outputs": [
    {
     "name": "stderr",
     "output_type": "stream",
     "text": [
      "Using TensorFlow backend.\n"
     ]
    }
   ],
   "source": [
    "import keras\n",
    "from keras.models import Sequential\n",
    "from keras.layers import Dense "
   ]
  },
  {
   "cell_type": "code",
   "execution_count": 48,
   "metadata": {},
   "outputs": [],
   "source": [
    "y_train = keras.utils.to_categorical(ytrain, 3)\n",
    "y_test = keras.utils.to_categorical(ytest, 3)"
   ]
  },
  {
   "cell_type": "code",
   "execution_count": 50,
   "metadata": {},
   "outputs": [
    {
     "data": {
      "text/plain": [
       "(array([0, 0, 2, ..., 0, 0, 0], dtype=int8), array([[1., 0., 0.],\n",
       "        [1., 0., 0.],\n",
       "        [0., 0., 1.],\n",
       "        ...,\n",
       "        [1., 0., 0.],\n",
       "        [1., 0., 0.],\n",
       "        [1., 0., 0.]], dtype=float32))"
      ]
     },
     "execution_count": 50,
     "metadata": {},
     "output_type": "execute_result"
    }
   ],
   "source": [
    "ytrain,y_train"
   ]
  },
  {
   "cell_type": "code",
   "execution_count": 51,
   "metadata": {},
   "outputs": [
    {
     "name": "stdout",
     "output_type": "stream",
     "text": [
      "Train on 79598 samples, validate on 34114 samples\n",
      "Epoch 1/10\n",
      "79598/79598 [==============================] - 26s 323us/step - loss: 0.6010 - acc: 0.7905 - val_loss: 0.5729 - val_acc: 0.7896\n",
      "Epoch 2/10\n",
      "79598/79598 [==============================] - 25s 309us/step - loss: 0.5632 - acc: 0.7905 - val_loss: 0.5579 - val_acc: 0.7896\n",
      "Epoch 3/10\n",
      "79598/79598 [==============================] - 24s 299us/step - loss: 0.5508 - acc: 0.7905 - val_loss: 0.5495 - val_acc: 0.7896\n",
      "Epoch 4/10\n",
      "79598/79598 [==============================] - 21s 265us/step - loss: 0.5455 - acc: 0.7935 - val_loss: 0.5449 - val_acc: 0.7942\n",
      "Epoch 5/10\n",
      "79598/79598 [==============================] - 21s 261us/step - loss: 0.5429 - acc: 0.7956 - val_loss: 0.5451 - val_acc: 0.7965\n",
      "Epoch 6/10\n",
      "79598/79598 [==============================] - 21s 261us/step - loss: 0.5405 - acc: 0.7971 - val_loss: 0.5412 - val_acc: 0.7974\n",
      "Epoch 7/10\n",
      "79598/79598 [==============================] - 30s 372us/step - loss: 0.5383 - acc: 0.7985 - val_loss: 0.5382 - val_acc: 0.7998\n",
      "Epoch 8/10\n",
      "79598/79598 [==============================] - 42s 526us/step - loss: 0.5368 - acc: 0.7992 - val_loss: 0.5390 - val_acc: 0.7976\n",
      "Epoch 9/10\n",
      "79598/79598 [==============================] - 32s 408us/step - loss: 0.5351 - acc: 0.7999 - val_loss: 0.5379 - val_acc: 0.8000\n",
      "Epoch 10/10\n",
      "79598/79598 [==============================] - 42s 523us/step - loss: 0.5336 - acc: 0.8000 - val_loss: 0.5401 - val_acc: 0.7997\n"
     ]
    },
    {
     "data": {
      "text/plain": [
       "<keras.callbacks.History at 0x1ae2c6a0>"
      ]
     },
     "execution_count": 51,
     "metadata": {},
     "output_type": "execute_result"
    }
   ],
   "source": [
    "model = Sequential()\n",
    "model.add(Dense(10, input_dim=len(xtrain.columns), activation='relu'))\n",
    "model.add(Dense(8, activation='relu'))\n",
    "model.add(Dense(6, activation='relu'))\n",
    "model.add(Dense(6, activation='relu'))\n",
    "model.add(Dense(4, activation='relu'))\n",
    "model.add(Dense(2, activation='relu'))\n",
    "model.add(Dense(3, activation='softmax'))\n",
    "\n",
    "# compile and fit model\n",
    "model.compile(loss=\"categorical_crossentropy\", optimizer=\"adam\", metrics=['accuracy'])\n",
    "model.fit(xtrain, y_train, batch_size=15, epochs=10, validation_data=(xtest, y_test))"
   ]
  },
  {
   "cell_type": "code",
   "execution_count": 53,
   "metadata": {},
   "outputs": [],
   "source": [
    "yo=model.predict(xtest)"
   ]
  },
  {
   "cell_type": "code",
   "execution_count": 62,
   "metadata": {},
   "outputs": [],
   "source": [
    "y=np.argmax(yo,axis=1)"
   ]
  },
  {
   "cell_type": "code",
   "execution_count": 64,
   "metadata": {},
   "outputs": [
    {
     "name": "stdout",
     "output_type": "stream",
     "text": [
      "Accuracy: for Neural 79.96716890426218\n"
     ]
    }
   ],
   "source": [
    "from sklearn import metrics\n",
    "print(\"Accuracy: for Neural\",metrics.accuracy_score(ytest, y)*100)"
   ]
  },
  {
   "cell_type": "code",
   "execution_count": 193,
   "metadata": {},
   "outputs": [],
   "source": [
    "################### RANDOM FOREST ########################"
   ]
  },
  {
   "cell_type": "code",
   "execution_count": 247,
   "metadata": {},
   "outputs": [],
   "source": [
    "from sklearn.ensemble import RandomForestClassifier\n",
    "model= RandomForestClassifier(n_estimators = 100, criterion='entropy',random_state = 0)\n",
    "model.fit(xtrain, ytrain)\n",
    "y2=model.predict(xtest)"
   ]
  },
  {
   "cell_type": "code",
   "execution_count": 248,
   "metadata": {},
   "outputs": [
    {
     "name": "stdout",
     "output_type": "stream",
     "text": [
      "Accuracy: for Random Forest 93.19341033006977\n",
      "Pstng.Date        0.166312\n",
      "Pending_Amy       0.160700\n",
      "Reference         0.148259\n",
      "Account           0.131029\n",
      "pending_cnt       0.118528\n",
      "PayT              0.074852\n",
      "Local.Crcy.Amt    0.073688\n",
      "Bran              0.066942\n",
      "Zone              0.030001\n",
      "BusA              0.029691\n",
      "G.L               0.000000\n",
      "CCAr              0.000000\n",
      "dtype: float64\n"
     ]
    }
   ],
   "source": [
    "from sklearn import metrics\n",
    "from sklearn.metrics import roc_auc_score\n",
    "print(\"Accuracy: for Random Forest\",metrics.accuracy_score(ytest, y2)*100)\n",
    "#print('ROC SCORE:',roc_auc_score(ytest, y2))\n",
    "print(pd.Series(model.feature_importances_,index=df1.columns).sort_values(ascending=False))\n"
   ]
  },
  {
   "cell_type": "code",
   "execution_count": 249,
   "metadata": {},
   "outputs": [
    {
     "name": "stdout",
     "output_type": "stream",
     "text": [
      "{0: 27046, 1: 4429, 2: 1613, 3: 827, 4: 195, 5: 4}\n",
      "{0: 27589, 1: 4173, 2: 1447, 3: 746, 4: 159}\n",
      "\n",
      "Confusion Matrix for Random Forest\n",
      "[[26438   871   178    67    32     3]\n",
      " [  537  3417   174    34    11     0]\n",
      " [   59   115  1179    91     2     1]\n",
      " [    7    25    80   621    13     0]\n",
      " [    5     1     2    14   137     0]\n",
      " [    0     0     0     0     0     0]]\n",
      "------------------------------------------------------------------------------------------------\n"
     ]
    }
   ],
   "source": [
    "unique, counts = np.unique(ytest, return_counts=True)\n",
    "print(dict(zip(unique, counts)))\n",
    "unique, counts = np.unique(y2, return_counts=True)\n",
    "print(dict(zip(unique, counts)))\n",
    "print()\n",
    "print('Confusion Matrix for Random Forest')\n",
    "print(metrics.confusion_matrix(y2, ytest))\n",
    "print('------------------------------------------------------------------------------------------------')"
   ]
  },
  {
   "cell_type": "code",
   "execution_count": 167,
   "metadata": {},
   "outputs": [],
   "source": [
    "################### Decision tress  #####################"
   ]
  },
  {
   "cell_type": "code",
   "execution_count": 250,
   "metadata": {},
   "outputs": [
    {
     "name": "stdout",
     "output_type": "stream",
     "text": [
      "Accuracy for Decision Trees: 92.16743858826288\n"
     ]
    }
   ],
   "source": [
    "from sklearn import tree\n",
    "decision_tree = tree.DecisionTreeClassifier(random_state=0, max_depth=100)\n",
    "ytree =decision_tree.fit(xtrain, ytrain)\n",
    "ytreepred=decision_tree.predict(xtest)\n",
    "print(\"Accuracy for Decision Trees:\",metrics.accuracy_score(ytreepred,ytest)*100)"
   ]
  },
  {
   "cell_type": "code",
   "execution_count": 251,
   "metadata": {},
   "outputs": [
    {
     "name": "stdout",
     "output_type": "stream",
     "text": [
      "{0: 27046, 1: 4429, 2: 1613, 3: 827, 4: 195, 5: 4}\n",
      "{0: 27118, 1: 4440, 2: 1576, 3: 797, 4: 183}\n",
      "\n",
      "Confusion Matrix for Decision Trees\n",
      "[[26096   790   153    53    26     0]\n",
      " [  768  3427   184    45    13     3]\n",
      " [  117   173  1175   106     4     1]\n",
      " [   42    32    95   610    18     0]\n",
      " [   23     7     6    13   134     0]\n",
      " [    0     0     0     0     0     0]]\n",
      "------------------------------------------------------------------------------------------------\n"
     ]
    }
   ],
   "source": [
    "unique, counts = np.unique(ytest, return_counts=True)\n",
    "print(dict(zip(unique, counts)))\n",
    "unique, counts = np.unique(ytreepred, return_counts=True)\n",
    "print(dict(zip(unique, counts)))\n",
    "print()\n",
    "print('Confusion Matrix for Decision Trees')\n",
    "print(metrics.confusion_matrix(ytreepred, ytest))\n",
    "print('------------------------------------------------------------------------------------------------')"
   ]
  },
  {
   "cell_type": "code",
   "execution_count": 252,
   "metadata": {},
   "outputs": [
    {
     "name": "stdout",
     "output_type": "stream",
     "text": [
      "Pstng.Date        0.198972\n",
      "Pending_Amy       0.176059\n",
      "Reference         0.146875\n",
      "Account           0.137690\n",
      "pending_cnt       0.094357\n",
      "Bran              0.084000\n",
      "Local.Crcy.Amt    0.068327\n",
      "PayT              0.065543\n",
      "BusA              0.015943\n",
      "Zone              0.012234\n",
      "G.L               0.000000\n",
      "CCAr              0.000000\n",
      "dtype: float64\n"
     ]
    }
   ],
   "source": [
    "print(pd.Series(decision_tree.feature_importances_,index=df1.columns).sort_values(ascending=False))"
   ]
  },
  {
   "cell_type": "code",
   "execution_count": 253,
   "metadata": {},
   "outputs": [
    {
     "data": {
      "text/plain": [
       "array([[1.        , 0.        , 0.        , 0.        , 0.        ,\n",
       "        0.        ],\n",
       "       [1.        , 0.        , 0.        , 0.        , 0.        ,\n",
       "        0.        ],\n",
       "       [1.        , 0.        , 0.        , 0.        , 0.        ,\n",
       "        0.        ],\n",
       "       ...,\n",
       "       [1.        , 0.        , 0.        , 0.        , 0.        ,\n",
       "        0.        ],\n",
       "       [0.57142857, 0.42857143, 0.        , 0.        , 0.        ,\n",
       "        0.        ],\n",
       "       [1.        , 0.        , 0.        , 0.        , 0.        ,\n",
       "        0.        ]])"
      ]
     },
     "execution_count": 253,
     "metadata": {},
     "output_type": "execute_result"
    }
   ],
   "source": [
    "probad=decision_tree.predict_proba(xtest)\n",
    "probad"
   ]
  },
  {
   "cell_type": "code",
   "execution_count": 39,
   "metadata": {},
   "outputs": [],
   "source": [
    "############################################  KNN ##################################"
   ]
  },
  {
   "cell_type": "code",
   "execution_count": 254,
   "metadata": {},
   "outputs": [],
   "source": [
    "from sklearn import neighbors"
   ]
  },
  {
   "cell_type": "code",
   "execution_count": 255,
   "metadata": {},
   "outputs": [],
   "source": [
    "limit=10"
   ]
  },
  {
   "cell_type": "code",
   "execution_count": 203,
   "metadata": {},
   "outputs": [],
   "source": [
    "#for i in range(limit):\n",
    "#    mo = neighbors.KNeighborsClassifier(n_neighbors =i+2)\n",
    "#    mo.fit(xtrain, ytrain)\n",
    "#    predict = mo.predict(xtest)\n",
    "#    print(\"Accuracy: for KNN :\",metrics.accuracy_score(predict, ytest)*100,'for k= ',(i+2))"
   ]
  },
  {
   "cell_type": "code",
   "execution_count": 256,
   "metadata": {},
   "outputs": [
    {
     "name": "stdout",
     "output_type": "stream",
     "text": [
      "Accuracy: for KNN : 91.9270680658967\n"
     ]
    }
   ],
   "source": [
    "mo = neighbors.KNeighborsClassifier(n_neighbors =2)\n",
    "mo.fit(xtrain, ytrain)\n",
    "predict = mo.predict(xtest)\n",
    "print(\"Accuracy: for KNN :\",metrics.accuracy_score(predict, ytest)*100)"
   ]
  },
  {
   "cell_type": "code",
   "execution_count": 257,
   "metadata": {},
   "outputs": [],
   "source": [
    "probak=mo.predict_proba(xtest)"
   ]
  },
  {
   "cell_type": "code",
   "execution_count": 258,
   "metadata": {},
   "outputs": [
    {
     "data": {
      "text/plain": [
       "array([0. , 0.5, 1. ])"
      ]
     },
     "execution_count": 258,
     "metadata": {},
     "output_type": "execute_result"
    }
   ],
   "source": [
    "np.unique(probak)"
   ]
  },
  {
   "cell_type": "code",
   "execution_count": null,
   "metadata": {},
   "outputs": [],
   "source": []
  },
  {
   "cell_type": "code",
   "execution_count": null,
   "metadata": {},
   "outputs": [],
   "source": []
  },
  {
   "cell_type": "code",
   "execution_count": 259,
   "metadata": {},
   "outputs": [
    {
     "name": "stdout",
     "output_type": "stream",
     "text": [
      "[0 1 2 3 4] [28115  3893  1330   641   135]\n"
     ]
    }
   ],
   "source": [
    "arr,count=np.unique(predict,return_counts=True)\n",
    "print(arr,count)"
   ]
  },
  {
   "cell_type": "code",
   "execution_count": 260,
   "metadata": {},
   "outputs": [
    {
     "name": "stdout",
     "output_type": "stream",
     "text": [
      "\n",
      "Confusion Matrix for KNN\n",
      "[[26508  1209   260    93    45     0]\n",
      " [  456  3119   247    61     7     3]\n",
      " [   60    83  1062   117     7     1]\n",
      " [   18    18    44   548    13     0]\n",
      " [    4     0     0     8   123     0]\n",
      " [    0     0     0     0     0     0]]\n"
     ]
    }
   ],
   "source": [
    "print()\n",
    "print('Confusion Matrix for KNN')\n",
    "print(metrics.confusion_matrix(predict, ytest))"
   ]
  },
  {
   "cell_type": "code",
   "execution_count": 261,
   "metadata": {},
   "outputs": [
    {
     "name": "stdout",
     "output_type": "stream",
     "text": [
      "{0: 27046, 1: 4429, 2: 1613, 3: 827, 4: 195, 5: 4}\n",
      "{0: 28115, 1: 3893, 2: 1330, 3: 641, 4: 135}\n",
      "---------------------------------------------------------------------------------------------\n"
     ]
    }
   ],
   "source": [
    "unique, counts = np.unique(ytest, return_counts=True)\n",
    "print(dict(zip(unique, counts)))\n",
    "unique, counts = np.unique(predict, return_counts=True)\n",
    "print(dict(zip(unique, counts)))\n",
    "print('---------------------------------------------------------------------------------------------')"
   ]
  },
  {
   "cell_type": "code",
   "execution_count": 47,
   "metadata": {},
   "outputs": [],
   "source": [
    "######################################### SVM  ####################################"
   ]
  },
  {
   "cell_type": "code",
   "execution_count": 48,
   "metadata": {},
   "outputs": [],
   "source": [
    "#from sklearn import svm"
   ]
  },
  {
   "cell_type": "code",
   "execution_count": null,
   "metadata": {},
   "outputs": [],
   "source": []
  },
  {
   "cell_type": "code",
   "execution_count": 77,
   "metadata": {},
   "outputs": [],
   "source": [
    "#clf = svm.SVC(kernel='linear') # Linear Kernel"
   ]
  },
  {
   "cell_type": "code",
   "execution_count": 78,
   "metadata": {},
   "outputs": [],
   "source": [
    "#clf.fit(xtrain, ytrain)"
   ]
  },
  {
   "cell_type": "code",
   "execution_count": 79,
   "metadata": {
    "scrolled": true
   },
   "outputs": [],
   "source": [
    "#yp=clf.predict(xtest)\n",
    "#print(\"Accuracy: for SVM\",metrics.accuracy_score(ytest, yp))\n",
    "#print()\n",
    "#print(metrics.confusion_matrix(ytest, yp))"
   ]
  },
  {
   "cell_type": "code",
   "execution_count": 80,
   "metadata": {},
   "outputs": [],
   "source": [
    "#unique, counts = np.unique(ytest, return_counts=True)\n",
    "#print(dict(zip(unique, counts)))\n",
    "#unique, counts = np.unique(yp, return_counts=True)\n",
    "#print(dict(zip(unique, counts)))\n",
    "#print('---------------------------------------------------------------------------------------------')"
   ]
  },
  {
   "cell_type": "code",
   "execution_count": 53,
   "metadata": {},
   "outputs": [],
   "source": [
    "#############################   ADABOOST   ##############################################"
   ]
  },
  {
   "cell_type": "code",
   "execution_count": 262,
   "metadata": {},
   "outputs": [
    {
     "data": {
      "text/plain": [
       "AdaBoostClassifier(algorithm='SAMME.R',\n",
       "          base_estimator=DecisionTreeClassifier(class_weight=None, criterion='gini', max_depth=100,\n",
       "            max_features=None, max_leaf_nodes=None,\n",
       "            min_impurity_decrease=0.0, min_impurity_split=None,\n",
       "            min_samples_leaf=1, min_samples_split=2,\n",
       "            min_weight_fraction_leaf=0.0, presort=False, random_state=0,\n",
       "            splitter='best'),\n",
       "          learning_rate=1.0, n_estimators=100, random_state=0)"
      ]
     },
     "execution_count": 262,
     "metadata": {},
     "output_type": "execute_result"
    }
   ],
   "source": [
    "from sklearn.ensemble import AdaBoostClassifier\n",
    "clf = AdaBoostClassifier(base_estimator=decision_tree,n_estimators=100, random_state=0)\n",
    "clf.fit(xtrain, ytrain)  "
   ]
  },
  {
   "cell_type": "code",
   "execution_count": 263,
   "metadata": {},
   "outputs": [],
   "source": [
    "yout=clf.predict(xtest)"
   ]
  },
  {
   "cell_type": "code",
   "execution_count": 264,
   "metadata": {},
   "outputs": [
    {
     "name": "stdout",
     "output_type": "stream",
     "text": [
      "Accuracy: for Adaboost : 92.78302163334702\n"
     ]
    }
   ],
   "source": [
    "print(\"Accuracy: for Adaboost :\",metrics.accuracy_score(ytest, yout)*100)"
   ]
  },
  {
   "cell_type": "code",
   "execution_count": 265,
   "metadata": {},
   "outputs": [
    {
     "name": "stdout",
     "output_type": "stream",
     "text": [
      "\n",
      "Confusion Matrix for KNN WITH ADABOOST\n",
      "[[26454   947   218   101    38     0]\n",
      " [  529  3340   184    37    11     3]\n",
      " [   52   120  1133    85     2     1]\n",
      " [    6    21    77   592    11     0]\n",
      " [    5     1     1    12   133     0]\n",
      " [    0     0     0     0     0     0]]\n"
     ]
    }
   ],
   "source": [
    "print()\n",
    "print('Confusion Matrix for KNN WITH ADABOOST')\n",
    "print(metrics.confusion_matrix(yout, ytest))"
   ]
  },
  {
   "cell_type": "code",
   "execution_count": null,
   "metadata": {},
   "outputs": [],
   "source": [
    "######################################################################################"
   ]
  },
  {
   "cell_type": "code",
   "execution_count": null,
   "metadata": {},
   "outputs": [],
   "source": [
    "########################### VOTING  ##########################"
   ]
  },
  {
   "cell_type": "code",
   "execution_count": 266,
   "metadata": {},
   "outputs": [],
   "source": [
    "from sklearn.ensemble import VotingClassifier\n",
    "eclf = VotingClassifier(estimators=[('dt',decision_tree ), ('knn', mo), ('adaboost', clf), ('RF',model)],voting='soft', weights=[2, 0.5, 3,8])\n",
    "eclf1 = eclf.fit(xtrain, ytrain)\n",
    "eclf2=eclf.predict(xtest)"
   ]
  },
  {
   "cell_type": "code",
   "execution_count": 267,
   "metadata": {},
   "outputs": [],
   "source": [
    "voteprob=eclf.predict_proba(xtest)"
   ]
  },
  {
   "cell_type": "code",
   "execution_count": null,
   "metadata": {},
   "outputs": [],
   "source": []
  },
  {
   "cell_type": "code",
   "execution_count": 217,
   "metadata": {},
   "outputs": [
    {
     "name": "stdout",
     "output_type": "stream",
     "text": [
      "Accuracy: for Adaboost : 93.59500498329132\n"
     ]
    }
   ],
   "source": [
    "print(\"Accuracy: for Adaboost :\",metrics.accuracy_score(ytest, eclf2)*100)"
   ]
  },
  {
   "cell_type": "code",
   "execution_count": 218,
   "metadata": {},
   "outputs": [
    {
     "name": "stdout",
     "output_type": "stream",
     "text": [
      "\n",
      "Confusion Matrix for Voting\n",
      "[[26532   804   148    56    31     1]\n",
      " [  438  3449   222    36     5     0]\n",
      " [   65   129  1179    98     4     0]\n",
      " [   17    27    69   634    12     0]\n",
      " [   10     0     4     9   133     0]\n",
      " [    0     0     0     0     0     2]]\n"
     ]
    }
   ],
   "source": [
    "print()\n",
    "print('Confusion Matrix for Voting')\n",
    "print(metrics.confusion_matrix(eclf2, ytest))"
   ]
  },
  {
   "cell_type": "code",
   "execution_count": 157,
   "metadata": {},
   "outputs": [],
   "source": [
    "##################################################################################"
   ]
  },
  {
   "cell_type": "code",
   "execution_count": 219,
   "metadata": {},
   "outputs": [],
   "source": [
    "from sklearn.ensemble import BaggingClassifier"
   ]
  },
  {
   "cell_type": "code",
   "execution_count": 220,
   "metadata": {},
   "outputs": [
    {
     "name": "stdout",
     "output_type": "stream",
     "text": [
      "Accuracy: for Bagging : 88.05475757753415\n"
     ]
    }
   ],
   "source": [
    "bagging = BaggingClassifier(mo,max_samples=0.5, max_features=0.5)\n",
    "bagging.fit(xtrain,ytrain)\n",
    "ybag=bagging.predict(xtest)\n",
    "print(\"Accuracy: for Bagging :\",metrics.accuracy_score(ytest, ybag)*100)"
   ]
  },
  {
   "cell_type": "markdown",
   "metadata": {},
   "source": []
  },
  {
   "cell_type": "code",
   "execution_count": 221,
   "metadata": {},
   "outputs": [
    {
     "name": "stdout",
     "output_type": "stream",
     "text": [
      "\n",
      "Confusion Matrix for Bagging\n",
      "[[26669  2129   582   275    75     3]\n",
      " [  350  2172   277    78    10     0]\n",
      " [   35    89   717    75     9     0]\n",
      " [    6    16    45   396     6     0]\n",
      " [    2     3     1     9    85     0]\n",
      " [    0     0     0     0     0     0]]\n"
     ]
    }
   ],
   "source": [
    "print()\n",
    "print('Confusion Matrix for Bagging')\n",
    "print(metrics.confusion_matrix(ybag, ytest))"
   ]
  },
  {
   "cell_type": "code",
   "execution_count": null,
   "metadata": {},
   "outputs": [],
   "source": []
  },
  {
   "cell_type": "code",
   "execution_count": 1,
   "metadata": {},
   "outputs": [],
   "source": []
  },
  {
   "cell_type": "code",
   "execution_count": null,
   "metadata": {},
   "outputs": [],
   "source": []
  },
  {
   "cell_type": "code",
   "execution_count": null,
   "metadata": {},
   "outputs": [],
   "source": []
  },
  {
   "cell_type": "code",
   "execution_count": null,
   "metadata": {},
   "outputs": [],
   "source": []
  },
  {
   "cell_type": "code",
   "execution_count": null,
   "metadata": {},
   "outputs": [],
   "source": []
  },
  {
   "cell_type": "code",
   "execution_count": null,
   "metadata": {},
   "outputs": [],
   "source": []
  },
  {
   "cell_type": "code",
   "execution_count": null,
   "metadata": {},
   "outputs": [],
   "source": []
  }
 ],
 "metadata": {
  "kernelspec": {
   "display_name": "Python 3",
   "language": "python",
   "name": "python3"
  },
  "language_info": {
   "codemirror_mode": {
    "name": "ipython",
    "version": 3
   },
   "file_extension": ".py",
   "mimetype": "text/x-python",
   "name": "python",
   "nbconvert_exporter": "python",
   "pygments_lexer": "ipython3",
   "version": "3.7.3"
  }
 },
 "nbformat": 4,
 "nbformat_minor": 2
}
