{
 "cells": [
  {
   "cell_type": "code",
   "execution_count": 257,
   "metadata": {},
   "outputs": [],
   "source": [
    "import pandas as pd\n",
    "import matplotlib.mlab as mlab\n",
    "import matplotlib.pyplot as plt\n",
    "import numpy as np"
   ]
  },
  {
   "cell_type": "code",
   "execution_count": 258,
   "metadata": {},
   "outputs": [],
   "source": [
    "df=pd.read_excel('BPR Only .xlsx','Sheet1')"
   ]
  },
  {
   "cell_type": "code",
   "execution_count": 259,
   "metadata": {},
   "outputs": [],
   "source": [
    "#df.head()"
   ]
  },
  {
   "cell_type": "code",
   "execution_count": 260,
   "metadata": {},
   "outputs": [
    {
     "data": {
      "text/plain": [
       "117472"
      ]
     },
     "execution_count": 260,
     "metadata": {},
     "output_type": "execute_result"
    }
   ],
   "source": [
    "df['Account'].count()"
   ]
  },
  {
   "cell_type": "code",
   "execution_count": 261,
   "metadata": {},
   "outputs": [],
   "source": [
    "#df.shape"
   ]
  },
  {
   "cell_type": "code",
   "execution_count": 262,
   "metadata": {},
   "outputs": [],
   "source": [
    "df.dropna(inplace=True)"
   ]
  },
  {
   "cell_type": "code",
   "execution_count": 263,
   "metadata": {},
   "outputs": [],
   "source": [
    "#df.shape"
   ]
  },
  {
   "cell_type": "code",
   "execution_count": 264,
   "metadata": {},
   "outputs": [],
   "source": [
    "#df['Account'].value_counts()"
   ]
  },
  {
   "cell_type": "code",
   "execution_count": 265,
   "metadata": {},
   "outputs": [],
   "source": [
    "df=df[df.Account == 115806]"
   ]
  },
  {
   "cell_type": "code",
   "execution_count": 266,
   "metadata": {},
   "outputs": [],
   "source": [
    "#df.shape"
   ]
  },
  {
   "cell_type": "code",
   "execution_count": 267,
   "metadata": {},
   "outputs": [],
   "source": [
    "#df.head()"
   ]
  },
  {
   "cell_type": "code",
   "execution_count": 268,
   "metadata": {},
   "outputs": [],
   "source": [
    "df.drop(columns=['    BusA','CCAr','Zone','Bran'],inplace=True)"
   ]
  },
  {
   "cell_type": "code",
   "execution_count": 269,
   "metadata": {},
   "outputs": [],
   "source": [
    "#df.head(5)"
   ]
  },
  {
   "cell_type": "code",
   "execution_count": 270,
   "metadata": {},
   "outputs": [],
   "source": [
    "df.drop(columns=['Reference','Account','DocumentNo','Doc/Chq dt','Year','Clrng doc.'],inplace=True)"
   ]
  },
  {
   "cell_type": "code",
   "execution_count": 271,
   "metadata": {},
   "outputs": [],
   "source": [
    "#df.shape"
   ]
  },
  {
   "cell_type": "code",
   "execution_count": 272,
   "metadata": {},
   "outputs": [],
   "source": [
    "df.drop(columns='Customer Name',inplace=True)"
   ]
  },
  {
   "cell_type": "code",
   "execution_count": 273,
   "metadata": {},
   "outputs": [],
   "source": [
    "#df.shape"
   ]
  },
  {
   "cell_type": "code",
   "execution_count": 274,
   "metadata": {},
   "outputs": [],
   "source": [
    "#df.head()"
   ]
  },
  {
   "cell_type": "code",
   "execution_count": 275,
   "metadata": {},
   "outputs": [],
   "source": [
    "df['Status']=df['Status'].astype('category')"
   ]
  },
  {
   "cell_type": "code",
   "execution_count": 276,
   "metadata": {},
   "outputs": [],
   "source": [
    "df[\"Status\"] = df[\"Status\"].cat.codes"
   ]
  },
  {
   "cell_type": "code",
   "execution_count": 277,
   "metadata": {},
   "outputs": [],
   "source": [
    "#df.head()"
   ]
  },
  {
   "cell_type": "code",
   "execution_count": 278,
   "metadata": {},
   "outputs": [],
   "source": [
    "#df['Status'].value_counts()"
   ]
  },
  {
   "cell_type": "code",
   "execution_count": 279,
   "metadata": {},
   "outputs": [],
   "source": [
    "df['PayT'] = df['PayT'].map(lambda x: int(x.lstrip('ZZ')))\n"
   ]
  },
  {
   "cell_type": "code",
   "execution_count": 280,
   "metadata": {},
   "outputs": [],
   "source": [
    "#df"
   ]
  },
  {
   "cell_type": "code",
   "execution_count": null,
   "metadata": {},
   "outputs": [],
   "source": []
  },
  {
   "cell_type": "code",
   "execution_count": 281,
   "metadata": {},
   "outputs": [],
   "source": [
    "df['Pstng Date']=df['Pstng Date'].dt.strftime(\"%Y%m%d\").astype(str)\n",
    "df['Net Due Dt']=df['Net Due Dt'].dt.strftime(\"%Y%m%d\").astype(str)\n",
    "df['Clearing']=df['Clearing'].dt.strftime(\"%Y%m%d\").astype(str)"
   ]
  },
  {
   "cell_type": "code",
   "execution_count": 282,
   "metadata": {},
   "outputs": [],
   "source": [
    "#df"
   ]
  },
  {
   "cell_type": "code",
   "execution_count": 284,
   "metadata": {},
   "outputs": [],
   "source": [
    "df = df.reset_index()\n",
    "df.drop(columns='index',inplace=True)\n",
    "df.to_excel('Reduced.xlsx')"
   ]
  },
  {
   "cell_type": "code",
   "execution_count": null,
   "metadata": {},
   "outputs": [],
   "source": []
  },
  {
   "cell_type": "code",
   "execution_count": 285,
   "metadata": {},
   "outputs": [],
   "source": [
    "sums=0\n",
    "arr=[]\n",
    "for i in range(len(df)):\n",
    "    if(df['Status'][i]==1):\n",
    "        sums=df['  Local Crcy Amt'][i]\n",
    "        arr.append(sums)\n",
    "    else:\n",
    "        arr.append(0)\n",
    "    \n",
    "df['Sum of Delay']=arr"
   ]
  },
  {
   "cell_type": "code",
   "execution_count": 286,
   "metadata": {},
   "outputs": [
    {
     "data": {
      "text/plain": [
       "0       0.000000\n",
       "1       0.000000\n",
       "2       0.000000\n",
       "3       0.000000\n",
       "4       0.000000\n",
       "5       0.000000\n",
       "6       0.000000\n",
       "7       0.000000\n",
       "8       0.000000\n",
       "9       0.000000\n",
       "10      0.000000\n",
       "11      0.000000\n",
       "12      0.000000\n",
       "13      0.000000\n",
       "14      0.000000\n",
       "15      0.000000\n",
       "16      0.000000\n",
       "17      0.000000\n",
       "18      0.000000\n",
       "19      0.000000\n",
       "20      0.000000\n",
       "21      0.000000\n",
       "22      0.000000\n",
       "23      0.000000\n",
       "24      0.000000\n",
       "25      0.000000\n",
       "26      0.000000\n",
       "27      0.158651\n",
       "28      0.143911\n",
       "29      0.136224\n",
       "          ...   \n",
       "3624    0.149750\n",
       "3625    0.150504\n",
       "3626    0.150667\n",
       "3627    0.151493\n",
       "3628    0.152742\n",
       "3629    0.154740\n",
       "3630    0.156213\n",
       "3631    0.156780\n",
       "3632    0.157949\n",
       "3633    0.241375\n",
       "3634    0.165301\n",
       "3635    0.171330\n",
       "3636    0.141827\n",
       "3637    0.142035\n",
       "3638    0.190018\n",
       "3639    0.190351\n",
       "3640    0.144564\n",
       "3641    0.198283\n",
       "3642    0.151423\n",
       "3643    0.151866\n",
       "3644    0.164303\n",
       "3645    0.132634\n",
       "3646    0.168795\n",
       "3647    0.169221\n",
       "3648    0.140275\n",
       "3649    0.176805\n",
       "3650    0.144564\n",
       "3651    0.153316\n",
       "3652    0.167045\n",
       "3653    0.132292\n",
       "Name: Sum of Delay, Length: 3654, dtype: float64"
      ]
     },
     "execution_count": 286,
     "metadata": {},
     "output_type": "execute_result"
    }
   ],
   "source": [
    "df['Sum of Delay']"
   ]
  },
  {
   "cell_type": "code",
   "execution_count": 287,
   "metadata": {},
   "outputs": [
    {
     "name": "stdout",
     "output_type": "stream",
     "text": [
      "0.07924045494983277 0.11345508909615389 0.05834104866315789\n"
     ]
    }
   ],
   "source": [
    "sums=0\n",
    "count=0\n",
    "sums_day=0\n",
    "sums_day_count=0\n",
    "sums_day_start=0\n",
    "sums_day_count_start=0\n",
    "for i in range(len(df)):\n",
    "    if(df['Pstng Date'][i][:4]=='2018'):\n",
    "        if(df['Pstng Date'][i][4:6]=='11'):\n",
    "                sums+=df['Sum of Delay'][i]\n",
    "                count=count+1\n",
    "                if(int(df['Pstng Date'][i][6:])>20):\n",
    "                    sums_day+=df['Sum of Delay'][i]\n",
    "                    sums_day_count+=1\n",
    "                if(int(df['Pstng Date'][i][6:])<20):\n",
    "                    sums_day_start+=df['Sum of Delay'][i]\n",
    "                    sums_day_count_start+=1\n",
    "\n",
    "avg_delay_monthly=sums/count\n",
    "avg_delay_windows=sums_day/sums_day_count\n",
    "avg_delay_start=sums_day_start/sums_day_count_start\n",
    "print(avg_delay_monthly,avg_delay_windows,avg_delay_start)\n"
   ]
  },
  {
   "cell_type": "code",
   "execution_count": 294,
   "metadata": {},
   "outputs": [
    {
     "data": {
      "image/png": "[encoded data removed]",
      "text/plain": [
       "<Figure size 1440x1440 with 1 Axes>"
      ]
     },
     "metadata": {
      "needs_background": "light"
     },
     "output_type": "display_data"
    }
   ],
   "source": [
    "#Histogram Plot\n",
    "fig = plt.figure(figsize=(20, 20))\n",
    "plt.bar([1, 5, 6],[avg_delay_monthly,avg_delay_windows,avg_delay_start], tick_label=['AVERAGE MONTHLY DELAY for Oct18','AVERAGE DELAY FOR 2nd HALF of month','AVERAGE DELAY FOR 1st HALF of month'])\n",
    "plt.title('CUSTOMER LABEL=115806')\n",
    "plt.show()\n"
   ]
  },
  {
   "cell_type": "code",
   "execution_count": 295,
   "metadata": {},
   "outputs": [
    {
     "data": {
      "text/plain": [
       "<Figure size 432x288 with 0 Axes>"
      ]
     },
     "metadata": {},
     "output_type": "display_data"
    }
   ],
   "source": [
    "plt.savefig('Average_Delay_Plot.jpeg')"
   ]
  },
  {
   "cell_type": "code",
   "execution_count": null,
   "metadata": {},
   "outputs": [],
   "source": []
  },
  {
   "cell_type": "code",
   "execution_count": null,
   "metadata": {},
   "outputs": [],
   "source": []
  }
 ],
 "metadata": {
  "kernelspec": {
   "display_name": "Python 3",
   "language": "python",
   "name": "python3"
  },
  "language_info": {
   "codemirror_mode": {
    "name": "ipython",
    "version": 3
   },
   "file_extension": ".py",
   "mimetype": "text/x-python",
   "name": "python",
   "nbconvert_exporter": "python",
   "pygments_lexer": "ipython3",
   "version": "3.7.0"
  }
 },
 "nbformat": 4,
 "nbformat_minor": 2
}
